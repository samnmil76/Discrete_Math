{
  "nbformat": 4,
  "nbformat_minor": 0,
  "metadata": {
    "colab": {
      "name": "Untitled0.ipynb",
      "provenance": [],
      "include_colab_link": true
    },
    "kernelspec": {
      "name": "python3",
      "display_name": "Python 3"
    }
  },
  "cells": [
    {
      "cell_type": "markdown",
      "metadata": {
        "id": "view-in-github",
        "colab_type": "text"
      },
      "source": [
        "<a href=\"https://colab.research.google.com/github/samnmil76/Discrete_Math/blob/master/ProjectPart2.ipynb\" target=\"_parent\"><img src=\"https://colab.research.google.com/assets/colab-badge.svg\" alt=\"Open In Colab\"/></a>"
      ]
    },
    {
      "cell_type": "markdown",
      "metadata": {
        "id": "YCJaepmmfKrS"
      },
      "source": [
        "# Project Part 2 : CPSMA 3913 [Dr. Jacob's](https://github.com/nurfnick) Discrete Mathematics \n",
        "\n",
        "### Samuel Miller - 223125\n",
        "\n",
        "\n"
      ]
    },
    {
      "cell_type": "markdown",
      "metadata": {
        "id": "Xs_Pvtua1Nnt"
      },
      "source": [
        "## 1 Probability"
      ]
    },
    {
      "cell_type": "markdown",
      "metadata": {
        "id": "2z6U1aB_fQDM"
      },
      "source": [
        "**(a) A sample space with three or more simple events, each with their own probability.**\n",
        "\n",
        "-Making an armor saving throw of a 5+ on 1D6.  $\\frac 26$\n",
        "\n",
        "-Rolling a 12+ on 3D6.  $\\frac 34$\n",
        "\n",
        "-Getting heads on a coin flip. $\\frac 12$"
      ]
    },
    {
      "cell_type": "code",
      "metadata": {
        "id": "rU_BgC_kfH7g"
      },
      "source": [
        "def linearfunction(x):\n",
        "  return 5*x+2 \n",
        "# then do some coding that does that!  Try to adhere to Clean Code principle as much as possible!\n",
        "\n"
      ],
      "execution_count": null,
      "outputs": []
    },
    {
      "cell_type": "markdown",
      "metadata": {
        "id": "Iggon6VK1Vxo"
      },
      "source": [
        "Some more text hopefully explaining why what you did worked."
      ]
    },
    {
      "cell_type": "markdown",
      "metadata": {
        "id": "_7RoPTU_hXG1"
      },
      "source": [
        "## 2 Functions"
      ]
    },
    {
      "cell_type": "markdown",
      "metadata": {
        "id": "MMXFYCZ6hajg"
      },
      "source": [
        "Math and other fun stuff....\n",
        "$$\n",
        "f_n(x) = \\sum_{i= 0}^n\\frac{\\frac{d}{dx}\\sin x|_{x = \\frac \\pi 4}}{n!} \\left(x-\\frac\\pi4\\right)^n\n",
        "$$\n",
        "\n",
        "Make sure to mention if you are using packages!\n",
        "\n",
        "In order to compute these, I will need to import the math package."
      ]
    },
    {
      "cell_type": "code",
      "metadata": {
        "id": "5U5T3Fld5X0S"
      },
      "source": [
        ""
      ],
      "execution_count": null,
      "outputs": []
    }
  ]
}