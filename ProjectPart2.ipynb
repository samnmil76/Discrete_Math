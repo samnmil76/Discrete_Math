{
  "nbformat": 4,
  "nbformat_minor": 0,
  "metadata": {
    "colab": {
      "name": "Untitled0.ipynb",
      "provenance": [],
      "include_colab_link": true
    },
    "kernelspec": {
      "name": "python3",
      "display_name": "Python 3"
    }
  },
  "cells": [
    {
      "cell_type": "markdown",
      "metadata": {
        "id": "view-in-github",
        "colab_type": "text"
      },
      "source": [
        "<a href=\"https://colab.research.google.com/github/samnmil76/Discrete_Math/blob/master/ProjectPart2.ipynb\" target=\"_parent\"><img src=\"https://colab.research.google.com/assets/colab-badge.svg\" alt=\"Open In Colab\"/></a>"
      ]
    },
    {
      "cell_type": "markdown",
      "metadata": {
        "id": "YCJaepmmfKrS"
      },
      "source": [
        "# Project Part 2 : CPSMA 3913 [Dr. Jacob's](https://github.com/nurfnick) Discrete Mathematics \n",
        "\n",
        "### Samuel Miller - 223125\n",
        "\n",
        "\n"
      ]
    },
    {
      "cell_type": "markdown",
      "metadata": {
        "id": "Xs_Pvtua1Nnt"
      },
      "source": [
        "## 1 Probability"
      ]
    },
    {
      "cell_type": "markdown",
      "metadata": {
        "id": "2z6U1aB_fQDM"
      },
      "source": [
        "###**(a) A sample space with three or more simple events, each with their own probability.**\n",
        "\n",
        "-Successfully making a 'To Hit' roll of 4+:  $\\frac 36$\n",
        "\n",
        "-Successfully making a 'To Wound' roll of 5+:  $\\frac 26$\n",
        "\n",
        "-Opponent making a saving throw of 6+: $\\frac 16$"
      ]
    },
    {
      "cell_type": "code",
      "metadata": {
        "id": "rU_BgC_kfH7g",
        "colab": {
          "base_uri": "https://localhost:8080/"
        },
        "outputId": "51d07d55-dd21-4975-a49b-634317595fcd"
      },
      "source": [
        "a =[1/2]\n",
        "b =[1/3]\n",
        "c =[1/6]\n",
        "\n",
        "\n",
        "p =[1/6,1/6,1/6,1/6,1/6,1/6] #6 probabilities, read as 0,1,2,3,4,5 since Python starts at 0.\n",
        "\n",
        "sum(p) #Chances must be positive and equal 1."
      ],
      "execution_count": 30,
      "outputs": [
        {
          "output_type": "execute_result",
          "data": {
            "text/plain": [
              "0.9999999999999999"
            ]
          },
          "metadata": {},
          "execution_count": 30
        }
      ]
    },
    {
      "cell_type": "markdown",
      "metadata": {
        "id": "Fb8ko4CIAgee"
      },
      "source": [
        "**(b) A compound event of the probability of both rolling both a successful 'To Hit' & 'To Wound'.**\n",
        "\n",
        "I will call this first one ProbabilityH, to represent the odds of rolling a successful 'To Hit'."
      ]
    },
    {
      "cell_type": "code",
      "metadata": {
        "id": "R_cSRCKMAPAf",
        "colab": {
          "base_uri": "https://localhost:8080/"
        },
        "outputId": "ed6e677e-6b15-4e14-d53f-89465e4e87be"
      },
      "source": [
        "ProbabilityH = 0\n",
        "\n",
        "for i in range(3,6):\n",
        "  ProbabilityH = ProbabilityH + p[i]\n",
        "\n",
        "ProbabilityH #In 0,1 the 0 is the first element (1/2) and 1 is the second element (1/3).  0,2 would be the first element and the third element.  \n",
        "#I'm doing the third and sixth elements so 3,6."
      ],
      "execution_count": 31,
      "outputs": [
        {
          "output_type": "execute_result",
          "data": {
            "text/plain": [
              "0.5"
            ]
          },
          "metadata": {},
          "execution_count": 31
        }
      ]
    },
    {
      "cell_type": "markdown",
      "metadata": {
        "id": "lmlopKh56VBg"
      },
      "source": [
        "For the second, I will call it ProbabilityW to represent the ods of rolling a successful 'To Wound'."
      ]
    },
    {
      "cell_type": "code",
      "metadata": {
        "id": "pgelrRz26T2j",
        "colab": {
          "base_uri": "https://localhost:8080/"
        },
        "outputId": "cf661831-6875-46e7-e5b7-fb96bcc5336e"
      },
      "source": [
        "ProbabilityW = 0\n",
        "\n",
        "for i in range(4,6):\n",
        "  ProbabilityW = ProbabilityW + p[i]\n",
        "\n",
        "ProbabilityW"
      ],
      "execution_count": 32,
      "outputs": [
        {
          "output_type": "execute_result",
          "data": {
            "text/plain": [
              "0.3333333333333333"
            ]
          },
          "metadata": {},
          "execution_count": 32
        }
      ]
    },
    {
      "cell_type": "markdown",
      "metadata": {
        "id": "zD_Rxv4a7TBV"
      },
      "source": [
        "The third one will be the probability of rolling a 'To Wound' after having sucessfully rolled a 'To Hit' first.  This will not be used; simply for imaginative sake.  It will be called ProbabilityS. "
      ]
    },
    {
      "cell_type": "code",
      "metadata": {
        "id": "OeWWZCW18WYk",
        "colab": {
          "base_uri": "https://localhost:8080/"
        },
        "outputId": "88291ba2-a808-4899-9d51-8c7e80791f3b"
      },
      "source": [
        "ProbabilityS = 0\n",
        "\n",
        "ProbabilityS = ProbabilityH * ProbabilityW\n",
        "\n",
        "ProbabilityS"
      ],
      "execution_count": 33,
      "outputs": [
        {
          "output_type": "execute_result",
          "data": {
            "text/plain": [
              "0.16666666666666666"
            ]
          },
          "metadata": {},
          "execution_count": 33
        }
      ]
    },
    {
      "cell_type": "markdown",
      "metadata": {
        "id": "fgujxWFk-Q1x"
      },
      "source": [
        "For the last one, it will be the probability of making a save after being wounded.  Like the previous, this is only for imagination's sake."
      ]
    },
    {
      "cell_type": "code",
      "metadata": {
        "id": "M-sUt6Cf-xVe",
        "colab": {
          "base_uri": "https://localhost:8080/"
        },
        "outputId": "b99da950-6389-4ca3-fe65-afc1f9e3d5a8"
      },
      "source": [
        "ProbabilityA = 0\n",
        "\n",
        "ProbabilityA = ProbabilityH * ProbabilityW * ProbabilityS\n",
        "\n",
        "ProbabilityA\n"
      ],
      "execution_count": 34,
      "outputs": [
        {
          "output_type": "execute_result",
          "data": {
            "text/plain": [
              "0.027777777777777776"
            ]
          },
          "metadata": {},
          "execution_count": 34
        }
      ]
    },
    {
      "cell_type": "markdown",
      "metadata": {
        "id": "BTG6BrEoAbKv"
      },
      "source": [
        "**(c) Probability of a Union & Intersection between my events; rolling both a successful 'To Hit' & 'To Wound'.**"
      ]
    },
    {
      "cell_type": "markdown",
      "metadata": {
        "id": "uOJksSB_BuzY"
      },
      "source": [
        "Computing the Union & Intersection of my compound event, Union being the number(s) being only in one group but not the other and Intersection being numbers in both groups."
      ]
    },
    {
      "cell_type": "code",
      "metadata": {
        "id": "bIGwa0DeAt0f"
      },
      "source": [
        "ProbabilityW = p[0] #Setting the value to zero to start."
      ],
      "execution_count": 35,
      "outputs": []
    },
    {
      "cell_type": "markdown",
      "metadata": {
        "id": "TZyCFdNHELrC"
      },
      "source": [
        "Checking the Intersection & Union.\n",
        "\n",
        "Pr(H) is the probability of rolling a successful 'To Hit', (4, 5, or 6)\n",
        "\n",
        "Pr(W) is the probability of rolling a successful 'To Wound', (5 or 6)\n",
        "\n",
        "\n",
        "$$\n",
        "Pr(H\\cup W) = Pr(H) + Pr(W) - Pr(H\\cap W)\n",
        "$$\n"
      ]
    },
    {
      "cell_type": "code",
      "metadata": {
        "id": "yEwYwl3V0loN",
        "colab": {
          "base_uri": "https://localhost:8080/"
        },
        "outputId": "f31313f4-67c0-41cf-bab3-af9367e584a4"
      },
      "source": [
        "HintersectW = p[0]\n",
        "\n",
        "HunionW = ProbabilityH + ProbabilityW - HintersectW\n",
        "HunionW"
      ],
      "execution_count": 36,
      "outputs": [
        {
          "output_type": "execute_result",
          "data": {
            "text/plain": [
              "0.5"
            ]
          },
          "metadata": {},
          "execution_count": 36
        }
      ]
    },
    {
      "cell_type": "markdown",
      "metadata": {
        "id": "Y3f8VFLCDBXJ"
      },
      "source": [
        "**(d) Computing both conditional probabilities of two events, with Bayes' Theorem to verify the results.**"
      ]
    },
    {
      "cell_type": "code",
      "metadata": {
        "id": "B3v50Te13bJ6",
        "colab": {
          "base_uri": "https://localhost:8080/"
        },
        "outputId": "bb7df87f-91f7-4fae-b020-67d4617253fa"
      },
      "source": [
        "1/2/ProbabilityH #Probability of another hit, given a second roll."
      ],
      "execution_count": 37,
      "outputs": [
        {
          "output_type": "execute_result",
          "data": {
            "text/plain": [
              "1.0"
            ]
          },
          "metadata": {},
          "execution_count": 37
        }
      ]
    },
    {
      "cell_type": "code",
      "metadata": {
        "id": "MfxU1lBBEd9q",
        "colab": {
          "base_uri": "https://localhost:8080/"
        },
        "outputId": "c459598a-dc31-4e61-c074-98535aeb15e1"
      },
      "source": [
        "1.0 == (1/2 * 1)/ProbabilityH #Bayes' Theorm  shows that it's true."
      ],
      "execution_count": 38,
      "outputs": [
        {
          "output_type": "execute_result",
          "data": {
            "text/plain": [
              "True"
            ]
          },
          "metadata": {},
          "execution_count": 38
        }
      ]
    },
    {
      "cell_type": "markdown",
      "metadata": {
        "id": "v_e6lWvug4fG"
      },
      "source": [
        "**(e) Computing the complement of an event.**"
      ]
    },
    {
      "cell_type": "code",
      "metadata": {
        "id": "GTgewMffg-o1"
      },
      "source": [
        "p6 = [6*i for i in p]\n",
        "p = [1/2,1/3,1/6]"
      ],
      "execution_count": 40,
      "outputs": []
    },
    {
      "cell_type": "code",
      "metadata": {
        "id": "R11Yz6yGQkIG",
        "outputId": "4c94413a-7e45-45a5-a43b-10d077e749ae",
        "colab": {
          "base_uri": "https://localhost:8080/"
        }
      },
      "source": [
        "p6"
      ],
      "execution_count": 41,
      "outputs": [
        {
          "output_type": "execute_result",
          "data": {
            "text/plain": [
              "[1.0, 1.0, 1.0, 1.0, 1.0, 1.0]"
            ]
          },
          "metadata": {},
          "execution_count": 41
        }
      ]
    },
    {
      "cell_type": "markdown",
      "metadata": {
        "id": "UrR0HpluHIiS"
      },
      "source": [
        "**(f) Sample space simulated 10 times.**"
      ]
    },
    {
      "cell_type": "code",
      "metadata": {
        "id": "3Sdo_bFXEFxO",
        "colab": {
          "base_uri": "https://localhost:8080/"
        },
        "outputId": "515eb144-18e1-49d6-f753-f5003f21322a"
      },
      "source": [
        "from random import choices  \n",
        "\n",
        "\n",
        "\n",
        "choices(['HIT','WOUND','SAVED'],p6,k=10) #Note, this is only taking each choice as a standalone choice, instead of consecutive rolls.  I don't know how to make it consecutive.  Might look into that later."
      ],
      "execution_count": null,
      "outputs": [
        {
          "output_type": "execute_result",
          "data": {
            "text/plain": [
              "['SAVED',\n",
              " 'HIT',\n",
              " 'HIT',\n",
              " 'HIT',\n",
              " 'SAVED',\n",
              " 'HIT',\n",
              " 'WOUND',\n",
              " 'WOUND',\n",
              " 'SAVED',\n",
              " 'WOUND']"
            ]
          },
          "metadata": {},
          "execution_count": 27
        }
      ]
    },
    {
      "cell_type": "markdown",
      "metadata": {
        "id": "h9QCvwXJH1sb"
      },
      "source": [
        "For only 10 occurences, the 1/3 & 1/6 options seem to occur much more frequently than one would think, but with a larger simulation, the odds would be more likely to show their true probabilities."
      ]
    },
    {
      "cell_type": "markdown",
      "metadata": {
        "id": "_7RoPTU_hXG1"
      },
      "source": [
        "## 2 Counting"
      ]
    },
    {
      "cell_type": "markdown",
      "metadata": {
        "id": "l05ht0UIkXxO"
      },
      "source": [
        "**(a) How many outcomes are possible in a simulation if it is considered a sequence in that particular order?**"
      ]
    },
    {
      "cell_type": "markdown",
      "metadata": {
        "id": "-5DPU1xqk1ko"
      },
      "source": [
        "I will a sequence of 5 with 4 outcomes, therefore it will be written as $4^{5}$; four options, with five outcomes. "
      ]
    },
    {
      "cell_type": "code",
      "metadata": {
        "id": "5U5T3Fld5X0S",
        "colab": {
          "base_uri": "https://localhost:8080/"
        },
        "outputId": "4aa35c62-603a-40bc-8b87-7cf2503757ce"
      },
      "source": [
        "4**5"
      ],
      "execution_count": 19,
      "outputs": [
        {
          "output_type": "execute_result",
          "data": {
            "text/plain": [
              "1024"
            ]
          },
          "metadata": {},
          "execution_count": 19
        }
      ]
    },
    {
      "cell_type": "markdown",
      "metadata": {
        "id": "okADsdkalqic"
      },
      "source": [
        "**(b) How many outcomes are possible if order does not matter?**"
      ]
    },
    {
      "cell_type": "markdown",
      "metadata": {
        "id": "5rs3yHLxmod4"
      },
      "source": [
        "Usually the formula for such a problem would be $n$ objects and $k$ slots, therefore;\n",
        "\n",
        "$$\n",
        "\\binom{n+k-1}{k-1} = \\binom{n+k-1}{n}\n",
        "$$\n",
        "\n",
        "in this instance it would be 5 objects and 4 slots."
      ]
    },
    {
      "cell_type": "code",
      "metadata": {
        "id": "fWQ9zPNqly8c",
        "outputId": "af81f377-5f04-461c-e794-eb65b598182b",
        "colab": {
          "base_uri": "https://localhost:8080/"
        }
      },
      "source": [
        "import math\n",
        "\n",
        "(5+4-1)/(4-1) \n",
        "\n",
        "#(math.factorial(5)+math.factorial(4)-math.factorial(1))/math.factorial(5)"
      ],
      "execution_count": 20,
      "outputs": [
        {
          "output_type": "execute_result",
          "data": {
            "text/plain": [
              "2.6666666666666665"
            ]
          },
          "metadata": {},
          "execution_count": 20
        }
      ]
    },
    {
      "cell_type": "markdown",
      "metadata": {
        "id": "GbAlFGkJDHnP"
      },
      "source": [
        "**(c) How many outcomes are possible if not allowed to select an item multiple times?**"
      ]
    },
    {
      "cell_type": "code",
      "metadata": {
        "id": "_AxuSF_s_tmq",
        "outputId": "17dfa672-28f8-436c-95cf-61dbae5719d4",
        "colab": {
          "base_uri": "https://localhost:8080/"
        }
      },
      "source": [
        "from itertools import combinations_with_replacement\n",
        "\n",
        "print(list(combinations_with_replacement(['a','b','c','d'],5)))"
      ],
      "execution_count": 24,
      "outputs": [
        {
          "output_type": "stream",
          "name": "stdout",
          "text": [
            "[('a', 'a', 'a', 'a', 'a'), ('a', 'a', 'a', 'a', 'b'), ('a', 'a', 'a', 'a', 'c'), ('a', 'a', 'a', 'a', 'd'), ('a', 'a', 'a', 'b', 'b'), ('a', 'a', 'a', 'b', 'c'), ('a', 'a', 'a', 'b', 'd'), ('a', 'a', 'a', 'c', 'c'), ('a', 'a', 'a', 'c', 'd'), ('a', 'a', 'a', 'd', 'd'), ('a', 'a', 'b', 'b', 'b'), ('a', 'a', 'b', 'b', 'c'), ('a', 'a', 'b', 'b', 'd'), ('a', 'a', 'b', 'c', 'c'), ('a', 'a', 'b', 'c', 'd'), ('a', 'a', 'b', 'd', 'd'), ('a', 'a', 'c', 'c', 'c'), ('a', 'a', 'c', 'c', 'd'), ('a', 'a', 'c', 'd', 'd'), ('a', 'a', 'd', 'd', 'd'), ('a', 'b', 'b', 'b', 'b'), ('a', 'b', 'b', 'b', 'c'), ('a', 'b', 'b', 'b', 'd'), ('a', 'b', 'b', 'c', 'c'), ('a', 'b', 'b', 'c', 'd'), ('a', 'b', 'b', 'd', 'd'), ('a', 'b', 'c', 'c', 'c'), ('a', 'b', 'c', 'c', 'd'), ('a', 'b', 'c', 'd', 'd'), ('a', 'b', 'd', 'd', 'd'), ('a', 'c', 'c', 'c', 'c'), ('a', 'c', 'c', 'c', 'd'), ('a', 'c', 'c', 'd', 'd'), ('a', 'c', 'd', 'd', 'd'), ('a', 'd', 'd', 'd', 'd'), ('b', 'b', 'b', 'b', 'b'), ('b', 'b', 'b', 'b', 'c'), ('b', 'b', 'b', 'b', 'd'), ('b', 'b', 'b', 'c', 'c'), ('b', 'b', 'b', 'c', 'd'), ('b', 'b', 'b', 'd', 'd'), ('b', 'b', 'c', 'c', 'c'), ('b', 'b', 'c', 'c', 'd'), ('b', 'b', 'c', 'd', 'd'), ('b', 'b', 'd', 'd', 'd'), ('b', 'c', 'c', 'c', 'c'), ('b', 'c', 'c', 'c', 'd'), ('b', 'c', 'c', 'd', 'd'), ('b', 'c', 'd', 'd', 'd'), ('b', 'd', 'd', 'd', 'd'), ('c', 'c', 'c', 'c', 'c'), ('c', 'c', 'c', 'c', 'd'), ('c', 'c', 'c', 'd', 'd'), ('c', 'c', 'd', 'd', 'd'), ('c', 'd', 'd', 'd', 'd'), ('d', 'd', 'd', 'd', 'd')]\n"
          ]
        }
      ]
    },
    {
      "cell_type": "markdown",
      "metadata": {
        "id": "9c7qQmjVLcQS"
      },
      "source": [
        "If order matters then $4!$, if not then $\\binom43$"
      ]
    },
    {
      "cell_type": "markdown",
      "metadata": {
        "id": "qldERKQGIAcN"
      },
      "source": [
        "**(d) What is the coefficent of the 5th order of $(x + 2)^9$?**"
      ]
    },
    {
      "cell_type": "markdown",
      "metadata": {
        "id": "6bb1eX7uGcDF"
      },
      "source": [
        "Binomial Theorem\n",
        "\n",
        "$$\n",
        "\\left(x+y\\right)^9 = \\sum_{n = 0}^9\\binom 9 n x^ny^{9-n}\n",
        "$$\n",
        "\n",
        "So in this instance, since $x+2$, we have\n",
        "\n",
        "$$\n",
        "\\left(x+2\\right)^9 = \\sum_{n = 0}^9\\binom 9 n x^n2^{9-n}\n",
        "$$\n",
        "\n",
        "$\\binom95$ (9 choose 5), $x^5$, then $2^4$\n",
        "\n",
        "Bascially, when is $n=5$:"
      ]
    },
    {
      "cell_type": "code",
      "metadata": {
        "id": "s-iuyQ_LIjhl",
        "outputId": "ffed37f1-fa05-45fc-d785-a07bde4f43d6",
        "colab": {
          "base_uri": "https://localhost:8080/",
          "height": 163
        }
      },
      "source": [
        "(x**5)*(2**(9-5))#I have absolutely no clue how to eihter solve this nor code it.  All I know is it has something to do with (x+2) multiplied by itself 9 times but that's about it."
      ],
      "execution_count": 28,
      "outputs": [
        {
          "output_type": "error",
          "ename": "NameError",
          "evalue": "ignored",
          "traceback": [
            "\u001b[0;31m---------------------------------------------------------------------------\u001b[0m",
            "\u001b[0;31mNameError\u001b[0m                                 Traceback (most recent call last)",
            "\u001b[0;32m<ipython-input-28-59397f45445e>\u001b[0m in \u001b[0;36m<module>\u001b[0;34m()\u001b[0m\n\u001b[0;32m----> 1\u001b[0;31m \u001b[0mprint\u001b[0m \u001b[0;34m(\u001b[0m\u001b[0mx\u001b[0m\u001b[0;34m**\u001b[0m\u001b[0;36m5\u001b[0m\u001b[0;34m)\u001b[0m\u001b[0;34m*\u001b[0m\u001b[0;34m(\u001b[0m\u001b[0;36m2\u001b[0m\u001b[0;34m**\u001b[0m\u001b[0;34m(\u001b[0m\u001b[0;36m9\u001b[0m\u001b[0;34m-\u001b[0m\u001b[0;36m5\u001b[0m\u001b[0;34m)\u001b[0m\u001b[0;34m)\u001b[0m\u001b[0;34m\u001b[0m\u001b[0;34m\u001b[0m\u001b[0m\n\u001b[0m",
            "\u001b[0;31mNameError\u001b[0m: name 'x' is not defined"
          ]
        }
      ]
    },
    {
      "cell_type": "markdown",
      "metadata": {
        "id": "4FkPSgZQKSAY"
      },
      "source": [
        "##3 My Comments"
      ]
    },
    {
      "cell_type": "markdown",
      "metadata": {
        "id": "QtmGrPilKUCf"
      },
      "source": [
        "**(a) My findings:**\n",
        "\n",
        "Finding probability is fairly straightforward, unless you want to add in the concept of dependent probabilities in which in order to get the probability of a second and third element, you would need the probability of the first element to multiply to; in other words, going off the example of my dice probability at the start, the probability of rolling a second specific number(s) AFTER rolling a first specific number(s)."
      ]
    },
    {
      "cell_type": "markdown",
      "metadata": {
        "id": "jrTdxcvJKWFn"
      },
      "source": [
        "**(b) My difficulties:**\n",
        "\n",
        "The only real difficulties was figuring out how to code in some of the mathmatical equations.  It was not necessarily the fact of doing it on a computer which made it hard, because doing it on paper would not have been any easier, it was simply a matter of it being a subject difficult to me. "
      ]
    },
    {
      "cell_type": "markdown",
      "metadata": {
        "id": "Ol-DpHJvK5Vf"
      },
      "source": [
        "**(c) How might simulation be different than my ideal sample space:**\n",
        "\n",
        "With a simulation, you can only program certain sets of numbers to be in the simulation, while your ideal sample space might be a number which is beyond the scope that the simulation can run either at all or at least efficiently."
      ]
    }
  ]
}