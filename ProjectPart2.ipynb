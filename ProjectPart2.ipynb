{
  "nbformat": 4,
  "nbformat_minor": 0,
  "metadata": {
    "colab": {
      "name": "Untitled0.ipynb",
      "provenance": [],
      "include_colab_link": true
    },
    "kernelspec": {
      "name": "python3",
      "display_name": "Python 3"
    }
  },
  "cells": [
    {
      "cell_type": "markdown",
      "metadata": {
        "id": "view-in-github",
        "colab_type": "text"
      },
      "source": [
        "<a href=\"https://colab.research.google.com/github/samnmil76/Discrete_Math/blob/master/ProjectPart2.ipynb\" target=\"_parent\"><img src=\"https://colab.research.google.com/assets/colab-badge.svg\" alt=\"Open In Colab\"/></a>"
      ]
    },
    {
      "cell_type": "markdown",
      "metadata": {
        "id": "YCJaepmmfKrS"
      },
      "source": [
        "# Project Part 2 : CPSMA 3913 [Dr. Jacob's](https://github.com/nurfnick) Discrete Mathematics \n",
        "\n",
        "### Samuel Miller - 223125\n",
        "\n",
        "\n"
      ]
    },
    {
      "cell_type": "markdown",
      "metadata": {
        "id": "Xs_Pvtua1Nnt"
      },
      "source": [
        "## 1 Probability"
      ]
    },
    {
      "cell_type": "markdown",
      "metadata": {
        "id": "2z6U1aB_fQDM"
      },
      "source": [
        "###**(a) A sample space with three or more simple events, each with their own probability.**\n",
        "\n",
        "-Successfully making a 'To Hit' roll of 4+:  $\\frac 36$\n",
        "\n",
        "-Successfully making a 'To Wound' roll of 5+:  $\\frac 26$\n",
        "\n",
        "-Opponent making a saving throw of 6+: $\\frac 16$"
      ]
    },
    {
      "cell_type": "code",
      "metadata": {
        "id": "rU_BgC_kfH7g",
        "colab": {
          "base_uri": "https://localhost:8080/"
        },
        "outputId": "d8f244a1-d0ee-4d1c-aeb7-0a933c866ce1"
      },
      "source": [
        "a =[1/2]\n",
        "b =[1/3]\n",
        "c =[1/6]\n",
        "\n",
        "\n",
        "p =[1/6,1/6,1/6,1/6,1/6,1/6] #6 probabilities, read as 0,1,2,3,4,5 since Python starts at 0.\n",
        "\n",
        "sum(p) #Chances must be positive and equal 1."
      ],
      "execution_count": 1,
      "outputs": [
        {
          "output_type": "execute_result",
          "data": {
            "text/plain": [
              "0.9999999999999999"
            ]
          },
          "metadata": {},
          "execution_count": 1
        }
      ]
    },
    {
      "cell_type": "markdown",
      "metadata": {
        "id": "Fb8ko4CIAgee"
      },
      "source": [
        "**(b) A compound event of the probability of both rolling both a successful 'To Hit' & 'To Wound'.**\n",
        "\n",
        "I will call this first one ProbabilityH, to represent the odds of rolling a successful 'To Hit'."
      ]
    },
    {
      "cell_type": "code",
      "metadata": {
        "id": "R_cSRCKMAPAf",
        "colab": {
          "base_uri": "https://localhost:8080/"
        },
        "outputId": "1c8f646c-ac42-4277-dc3f-6d18dd8245ec"
      },
      "source": [
        "ProbabilityH = 0\n",
        "\n",
        "for i in range(3,6):\n",
        "  ProbabilityH = ProbabilityH + p[i]\n",
        "\n",
        "ProbabilityH #In 0,1 the 0 is the first element (1/2) and 1 is the second element (1/3).  0,2 would be the first element and the third element.  \n",
        "#I'm doing the third and sixth elements so 3,6."
      ],
      "execution_count": 2,
      "outputs": [
        {
          "output_type": "execute_result",
          "data": {
            "text/plain": [
              "0.5"
            ]
          },
          "metadata": {},
          "execution_count": 2
        }
      ]
    },
    {
      "cell_type": "markdown",
      "metadata": {
        "id": "lmlopKh56VBg"
      },
      "source": [
        "For the second, I will call it ProbabilityW to represent the ods of rolling a successful 'To Wound'."
      ]
    },
    {
      "cell_type": "code",
      "metadata": {
        "id": "pgelrRz26T2j",
        "colab": {
          "base_uri": "https://localhost:8080/"
        },
        "outputId": "36d6e421-c632-4004-cc6d-8e54ab4a7b6e"
      },
      "source": [
        "ProbabilityW = 0\n",
        "\n",
        "for i in range(4,6):\n",
        "  ProbabilityW = ProbabilityW + p[i]\n",
        "\n",
        "ProbabilityW"
      ],
      "execution_count": 3,
      "outputs": [
        {
          "output_type": "execute_result",
          "data": {
            "text/plain": [
              "0.3333333333333333"
            ]
          },
          "metadata": {},
          "execution_count": 3
        }
      ]
    },
    {
      "cell_type": "markdown",
      "metadata": {
        "id": "zD_Rxv4a7TBV"
      },
      "source": [
        "The third one will be the probability of rolling a 'To Wound' after having sucessfully rolled a 'To Hit' first.  This will not be used; simply for imaginative sake.  It will be called ProbabilityS. "
      ]
    },
    {
      "cell_type": "code",
      "metadata": {
        "id": "OeWWZCW18WYk",
        "colab": {
          "base_uri": "https://localhost:8080/"
        },
        "outputId": "922c931b-418d-45cd-cdfb-3fd5e4a9ef74"
      },
      "source": [
        "ProbabilityS = 0\n",
        "\n",
        "ProbabilityS = ProbabilityH * ProbabilityW\n",
        "\n",
        "ProbabilityS"
      ],
      "execution_count": 4,
      "outputs": [
        {
          "output_type": "execute_result",
          "data": {
            "text/plain": [
              "0.16666666666666666"
            ]
          },
          "metadata": {},
          "execution_count": 4
        }
      ]
    },
    {
      "cell_type": "markdown",
      "metadata": {
        "id": "fgujxWFk-Q1x"
      },
      "source": [
        "For the last one, it will be the probability of making a save after being wounded.  Like the previous, this is only for imagination's sake."
      ]
    },
    {
      "cell_type": "code",
      "metadata": {
        "id": "M-sUt6Cf-xVe",
        "colab": {
          "base_uri": "https://localhost:8080/"
        },
        "outputId": "4af7ec66-1a9f-472c-a5cb-4eb0df2cdf93"
      },
      "source": [
        "ProbabilityA = 0\n",
        "\n",
        "ProbabilityA = ProbabilityH * ProbabilityW * ProbabilityS\n",
        "\n",
        "ProbabilityA\n"
      ],
      "execution_count": 5,
      "outputs": [
        {
          "output_type": "execute_result",
          "data": {
            "text/plain": [
              "0.027777777777777776"
            ]
          },
          "metadata": {},
          "execution_count": 5
        }
      ]
    },
    {
      "cell_type": "markdown",
      "metadata": {
        "id": "BTG6BrEoAbKv"
      },
      "source": [
        "**(c) Probability of a Union & Intersection between my events; rolling both a successful 'To Hit' & 'To Wound'.**"
      ]
    },
    {
      "cell_type": "markdown",
      "metadata": {
        "id": "uOJksSB_BuzY"
      },
      "source": [
        "Computing the Union & Intersection of my compound event, Union being the number(s) being only in one group but not the other and Intersection being numbers in both groups."
      ]
    },
    {
      "cell_type": "code",
      "metadata": {
        "id": "bIGwa0DeAt0f"
      },
      "source": [
        "ProbabilityW = p[0] #Setting the value to zero to start."
      ],
      "execution_count": 6,
      "outputs": []
    },
    {
      "cell_type": "markdown",
      "metadata": {
        "id": "TZyCFdNHELrC"
      },
      "source": [
        "Checking the Intersection & Union.\n",
        "\n",
        "Pr(H) is the probability of rolling a successful 'To Hit', (4, 5, or 6)\n",
        "\n",
        "Pr(W) is the probability of rolling a successful 'To Wound', (5 or 6)\n",
        "\n",
        "\n",
        "$$\n",
        "Pr(H\\cup W) = Pr(H) + Pr(W) - Pr(H\\cap W)\n",
        "$$\n"
      ]
    },
    {
      "cell_type": "code",
      "metadata": {
        "id": "yEwYwl3V0loN",
        "colab": {
          "base_uri": "https://localhost:8080/"
        },
        "outputId": "4f416143-f952-452a-f7bb-6e33cad78b5b"
      },
      "source": [
        "HintersectW = p[0]\n",
        "\n",
        "HunionW = ProbabilityH + ProbabilityW - HintersectW\n",
        "HunionW"
      ],
      "execution_count": 14,
      "outputs": [
        {
          "output_type": "execute_result",
          "data": {
            "text/plain": [
              "0.5"
            ]
          },
          "metadata": {},
          "execution_count": 14
        }
      ]
    },
    {
      "cell_type": "markdown",
      "metadata": {
        "id": "Y3f8VFLCDBXJ"
      },
      "source": [
        "**(d) Computing both conditional probabilities of two events, with Bayes' Theorem to verify the results.**"
      ]
    },
    {
      "cell_type": "code",
      "metadata": {
        "id": "B3v50Te13bJ6",
        "colab": {
          "base_uri": "https://localhost:8080/"
        },
        "outputId": "fcba6e36-1586-4a1d-d6a6-68427ed0939c"
      },
      "source": [
        "1/2/ProbabilityH #Probability of another hit, given a second roll."
      ],
      "execution_count": 16,
      "outputs": [
        {
          "output_type": "execute_result",
          "data": {
            "text/plain": [
              "1.0"
            ]
          },
          "metadata": {},
          "execution_count": 16
        }
      ]
    },
    {
      "cell_type": "code",
      "metadata": {
        "id": "MfxU1lBBEd9q",
        "outputId": "fbb46708-eda2-4a4e-9d47-b07b0a5f2c31",
        "colab": {
          "base_uri": "https://localhost:8080/"
        }
      },
      "source": [
        "1.0 == (1/2 * 1)/ProbabilityH #Bayes' Theorm  shows that it's true."
      ],
      "execution_count": 17,
      "outputs": [
        {
          "output_type": "execute_result",
          "data": {
            "text/plain": [
              "True"
            ]
          },
          "metadata": {},
          "execution_count": 17
        }
      ]
    },
    {
      "cell_type": "code",
      "metadata": {
        "id": "_1RHr6R_D9_s"
      },
      "source": [
        "p6 = [6*i for i in p]\n",
        "p = [1/2,1/3,1/6]"
      ],
      "execution_count": 20,
      "outputs": []
    },
    {
      "cell_type": "code",
      "metadata": {
        "id": "O7h6LDqCEDnt",
        "colab": {
          "base_uri": "https://localhost:8080/"
        },
        "outputId": "c079fa50-ecab-4ef5-9175-37de5fbd8228"
      },
      "source": [
        "p6"
      ],
      "execution_count": 21,
      "outputs": [
        {
          "output_type": "execute_result",
          "data": {
            "text/plain": [
              "[3.0, 2.0, 1.0]"
            ]
          },
          "metadata": {},
          "execution_count": 21
        }
      ]
    },
    {
      "cell_type": "markdown",
      "metadata": {
        "id": "UrR0HpluHIiS"
      },
      "source": [
        "**(f) Sample space simulated 10 times.**"
      ]
    },
    {
      "cell_type": "code",
      "metadata": {
        "id": "3Sdo_bFXEFxO",
        "colab": {
          "base_uri": "https://localhost:8080/"
        },
        "outputId": "515eb144-18e1-49d6-f753-f5003f21322a"
      },
      "source": [
        "from random import choices  \n",
        "\n",
        "\n",
        "\n",
        "choices(['HIT','WOUND','SAVED'],p6,k=10)"
      ],
      "execution_count": 27,
      "outputs": [
        {
          "output_type": "execute_result",
          "data": {
            "text/plain": [
              "['SAVED',\n",
              " 'HIT',\n",
              " 'HIT',\n",
              " 'HIT',\n",
              " 'SAVED',\n",
              " 'HIT',\n",
              " 'WOUND',\n",
              " 'WOUND',\n",
              " 'SAVED',\n",
              " 'WOUND']"
            ]
          },
          "metadata": {},
          "execution_count": 27
        }
      ]
    },
    {
      "cell_type": "markdown",
      "metadata": {
        "id": "h9QCvwXJH1sb"
      },
      "source": [
        "For only 10 occurences, the 1/3 & 1/6 options seem to occur much more frequently than one would think, but with a larger simulation, the odds would be more likely to show their true probabilities."
      ]
    },
    {
      "cell_type": "markdown",
      "metadata": {
        "id": "_7RoPTU_hXG1"
      },
      "source": [
        "## 2 Counting"
      ]
    },
    {
      "cell_type": "markdown",
      "metadata": {
        "id": "MMXFYCZ6hajg"
      },
      "source": [
        "Binomial Theorem\n",
        "\n",
        "$$\n",
        "\\left(x+y\\right)^9 = \\sum_{n = 0}^9\\binom 9 n x^ny^{9-n}\n",
        "$$"
      ]
    },
    {
      "cell_type": "markdown",
      "metadata": {
        "id": "cKYyVsfB-c4o"
      },
      "source": [
        "9 choose 5, x to 5, then 2 to 4"
      ]
    },
    {
      "cell_type": "code",
      "metadata": {
        "id": "5U5T3Fld5X0S"
      },
      "source": [
        ""
      ],
      "execution_count": null,
      "outputs": []
    }
  ]
}