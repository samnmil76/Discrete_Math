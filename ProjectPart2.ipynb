{
  "nbformat": 4,
  "nbformat_minor": 0,
  "metadata": {
    "colab": {
      "name": "Untitled0.ipynb",
      "provenance": [],
      "include_colab_link": true
    },
    "kernelspec": {
      "name": "python3",
      "display_name": "Python 3"
    }
  },
  "cells": [
    {
      "cell_type": "markdown",
      "metadata": {
        "id": "view-in-github",
        "colab_type": "text"
      },
      "source": [
        "<a href=\"https://colab.research.google.com/github/samnmil76/Discrete_Math/blob/master/ProjectPart2.ipynb\" target=\"_parent\"><img src=\"https://colab.research.google.com/assets/colab-badge.svg\" alt=\"Open In Colab\"/></a>"
      ]
    },
    {
      "cell_type": "markdown",
      "metadata": {
        "id": "YCJaepmmfKrS"
      },
      "source": [
        "# Project Part 2 : CPSMA 3913 [Dr. Jacob's](https://github.com/nurfnick) Discrete Mathematics \n",
        "\n",
        "### Samuel Miller - 223125\n",
        "\n",
        "\n"
      ]
    },
    {
      "cell_type": "markdown",
      "metadata": {
        "id": "Xs_Pvtua1Nnt"
      },
      "source": [
        "## 1 Probability"
      ]
    },
    {
      "cell_type": "markdown",
      "metadata": {
        "id": "2z6U1aB_fQDM"
      },
      "source": [
        "###**(a) A sample space with three or more simple events, each with their own probability.**\n",
        "\n",
        "-Successfully making a 'To Hit' roll of 4+:  $\\frac 36$\n",
        "\n",
        "-Successfully making a 'To Wound' roll of 5+:  $\\frac 26$\n",
        "\n",
        "-Opponent making a saving throw of 6+: $\\frac 16$"
      ]
    },
    {
      "cell_type": "code",
      "metadata": {
        "id": "rU_BgC_kfH7g",
        "colab": {
          "base_uri": "https://localhost:8080/"
        },
        "outputId": "571e350b-9975-4747-bdec-f855a620ca57"
      },
      "source": [
        "a =[1/2]\n",
        "b =[1/3]\n",
        "c =[1/6]\n",
        "\n",
        "\n",
        "p =[1/6,1/6,1/6,1/6,1/6,1/6] #6 probabilities, read as 0,1,2,3,4,5 since Python starts at 0.\n",
        "\n",
        "sum(p) #Chances must be positive and equal 1."
      ],
      "execution_count": 20,
      "outputs": [
        {
          "output_type": "execute_result",
          "data": {
            "text/plain": [
              "0.9999999999999999"
            ]
          },
          "metadata": {},
          "execution_count": 20
        }
      ]
    },
    {
      "cell_type": "markdown",
      "metadata": {
        "id": "Fb8ko4CIAgee"
      },
      "source": [
        "**(b) A compound event of the probability of both rolling both a successful 'To Hit' & 'To Wound'.**\n",
        "\n",
        "I will call this first one ProbabilityH, to represent the odds of rolling a successful 'To Hit'."
      ]
    },
    {
      "cell_type": "code",
      "metadata": {
        "id": "R_cSRCKMAPAf",
        "colab": {
          "base_uri": "https://localhost:8080/"
        },
        "outputId": "c145db04-54da-4e2a-c19f-3c99a7838321"
      },
      "source": [
        "ProbabilityH = 0\n",
        "\n",
        "for i in range(3,6):\n",
        "  ProbabilityH = ProbabilityH + p[i]\n",
        "\n",
        "ProbabilityH #In 0,1 the 0 is the first element (1/2) and 1 is the second element (1/3).  0,2 would be the first element and the third element.  \n",
        "#I'm doing the third and sixth elements so 3,6."
      ],
      "execution_count": 29,
      "outputs": [
        {
          "output_type": "execute_result",
          "data": {
            "text/plain": [
              "0.5"
            ]
          },
          "metadata": {},
          "execution_count": 29
        }
      ]
    },
    {
      "cell_type": "markdown",
      "metadata": {
        "id": "lmlopKh56VBg"
      },
      "source": [
        "For the second, I will call it ProbabilityW to represent the ods of rolling a successful 'To Wound'."
      ]
    },
    {
      "cell_type": "code",
      "metadata": {
        "id": "pgelrRz26T2j",
        "outputId": "a84c24a4-5db0-4258-bf71-270fb2e23faa",
        "colab": {
          "base_uri": "https://localhost:8080/"
        }
      },
      "source": [
        "ProbabilityW = 0\n",
        "\n",
        "for i in range(4,6):\n",
        "  ProbabilityW = ProbabilityW + p[i]\n",
        "\n",
        "ProbabilityW"
      ],
      "execution_count": 30,
      "outputs": [
        {
          "output_type": "execute_result",
          "data": {
            "text/plain": [
              "0.3333333333333333"
            ]
          },
          "metadata": {},
          "execution_count": 30
        }
      ]
    },
    {
      "cell_type": "markdown",
      "metadata": {
        "id": "zD_Rxv4a7TBV"
      },
      "source": [
        "The third one will be the probability of rolling a 'To Wound' after having sucessfully rolled a 'To Hit' first.  This will not be used; simply for imaginative sake.  It will be called ProbabilityS. "
      ]
    },
    {
      "cell_type": "code",
      "metadata": {
        "id": "OeWWZCW18WYk",
        "outputId": "60bb1646-b14d-49b0-fd45-a0d00db15c9e",
        "colab": {
          "base_uri": "https://localhost:8080/"
        }
      },
      "source": [
        "ProbabilityS = 0\n",
        "\n",
        "ProbabilityS = ProbabilityH * ProbabilityW\n",
        "\n",
        "ProbabilityS"
      ],
      "execution_count": 23,
      "outputs": [
        {
          "output_type": "execute_result",
          "data": {
            "text/plain": [
              "0.16666666666666666"
            ]
          },
          "metadata": {},
          "execution_count": 23
        }
      ]
    },
    {
      "cell_type": "markdown",
      "metadata": {
        "id": "fgujxWFk-Q1x"
      },
      "source": [
        "For the last one, it will be the probability of making a save after being wounded.  Like the previous, this is only for imagination's sake."
      ]
    },
    {
      "cell_type": "code",
      "metadata": {
        "id": "M-sUt6Cf-xVe",
        "outputId": "7903065d-4859-4217-d979-f72be29bedc4",
        "colab": {
          "base_uri": "https://localhost:8080/"
        }
      },
      "source": [
        "ProbabilityA = 0\n",
        "\n",
        "ProbabilityA = ProbabilityH * ProbabilityW * ProbabilityS\n",
        "\n",
        "ProbabilityA\n"
      ],
      "execution_count": 31,
      "outputs": [
        {
          "output_type": "execute_result",
          "data": {
            "text/plain": [
              "0.027777777777777776"
            ]
          },
          "metadata": {},
          "execution_count": 31
        }
      ]
    },
    {
      "cell_type": "markdown",
      "metadata": {
        "id": "BTG6BrEoAbKv"
      },
      "source": [
        "**(c) Probability of a Union & Intersection between my events; rolling both a successful 'To Hit' & 'To Wound'.**"
      ]
    },
    {
      "cell_type": "markdown",
      "metadata": {
        "id": "uOJksSB_BuzY"
      },
      "source": [
        "Computing the Union & Intersection of my compound event, Union being the number(s) being only in one group but not the other and Intersection being numbers in both groups."
      ]
    },
    {
      "cell_type": "code",
      "metadata": {
        "id": "bIGwa0DeAt0f"
      },
      "source": [
        "ProbabilityW = p[0] #Setting the value to zero to start."
      ],
      "execution_count": 27,
      "outputs": []
    },
    {
      "cell_type": "markdown",
      "metadata": {
        "id": "TZyCFdNHELrC"
      },
      "source": [
        "Checking the Intersection & Union.\n",
        "\n",
        "Pr(H) is the probability of rolling a successful 'To Hit', (4, 5, or 6)\n",
        "\n",
        "Pr(W) is the probability of rolling a successful 'To Wound', (5 or 6)\n",
        "\n",
        "\n",
        "$$\n",
        "Pr(H\\cup W) = Pr(H) + Pr(W) - Pr(H\\cap W)\n",
        "$$\n"
      ]
    },
    {
      "cell_type": "code",
      "metadata": {
        "id": "4wF21am8AMye"
      },
      "source": [
        ""
      ],
      "execution_count": null,
      "outputs": []
    },
    {
      "cell_type": "code",
      "metadata": {
        "id": "yEwYwl3V0loN",
        "outputId": "0702d1e6-b2d7-4045-eb02-9f1a96d9b00e",
        "colab": {
          "base_uri": "https://localhost:8080/"
        }
      },
      "source": [
        "HintersectW = p[0]\n",
        "\n",
        "HunionW = ProbabilityH + ProbabilityW - HintersectW\n",
        "HunionW"
      ],
      "execution_count": 32,
      "outputs": [
        {
          "output_type": "execute_result",
          "data": {
            "text/plain": [
              "0.6666666666666666"
            ]
          },
          "metadata": {},
          "execution_count": 32
        }
      ]
    },
    {
      "cell_type": "code",
      "metadata": {
        "id": "B3v50Te13bJ6",
        "outputId": "8deb73e0-92ee-417c-8371-1aa8ec79f1eb",
        "colab": {
          "base_uri": "https://localhost:8080/"
        }
      },
      "source": [
        "1/2/ProbabilityS"
      ],
      "execution_count": 16,
      "outputs": [
        {
          "output_type": "execute_result",
          "data": {
            "text/plain": [
              "1.0"
            ]
          },
          "metadata": {},
          "execution_count": 16
        }
      ]
    },
    {
      "cell_type": "markdown",
      "metadata": {
        "id": "Iggon6VK1Vxo"
      },
      "source": [
        ""
      ]
    },
    {
      "cell_type": "code",
      "metadata": {
        "id": "_1RHr6R_D9_s"
      },
      "source": [
        "p6 = [6*i for i in a]"
      ],
      "execution_count": 6,
      "outputs": []
    },
    {
      "cell_type": "code",
      "metadata": {
        "id": "O7h6LDqCEDnt",
        "colab": {
          "base_uri": "https://localhost:8080/"
        },
        "outputId": "cf8f89e1-c785-48b1-df1c-99f627ec4b3a"
      },
      "source": [
        "p6"
      ],
      "execution_count": 8,
      "outputs": [
        {
          "output_type": "execute_result",
          "data": {
            "text/plain": [
              "[3.0]"
            ]
          },
          "metadata": {},
          "execution_count": 8
        }
      ]
    },
    {
      "cell_type": "code",
      "metadata": {
        "id": "3Sdo_bFXEFxO",
        "colab": {
          "base_uri": "https://localhost:8080/",
          "height": 197
        },
        "outputId": "b8c38c89-2504-434d-fde6-85b02329bc12"
      },
      "source": [
        "from random import choices\n",
        "\n",
        "\n",
        "\n",
        "choices(['Save!','Dead!'],p12,k=15)"
      ],
      "execution_count": 9,
      "outputs": [
        {
          "output_type": "error",
          "ename": "NameError",
          "evalue": "ignored",
          "traceback": [
            "\u001b[0;31m---------------------------------------------------------------------------\u001b[0m",
            "\u001b[0;31mNameError\u001b[0m                                 Traceback (most recent call last)",
            "\u001b[0;32m<ipython-input-9-a6ca6763d48f>\u001b[0m in \u001b[0;36m<module>\u001b[0;34m()\u001b[0m\n\u001b[1;32m      3\u001b[0m \u001b[0;34m\u001b[0m\u001b[0m\n\u001b[1;32m      4\u001b[0m \u001b[0;34m\u001b[0m\u001b[0m\n\u001b[0;32m----> 5\u001b[0;31m \u001b[0mchoices\u001b[0m\u001b[0;34m(\u001b[0m\u001b[0;34m[\u001b[0m\u001b[0;34m'Save!'\u001b[0m\u001b[0;34m,\u001b[0m\u001b[0;34m'Dead!'\u001b[0m\u001b[0;34m]\u001b[0m\u001b[0;34m,\u001b[0m\u001b[0mp12\u001b[0m\u001b[0;34m,\u001b[0m\u001b[0mk\u001b[0m\u001b[0;34m=\u001b[0m\u001b[0;36m15\u001b[0m\u001b[0;34m)\u001b[0m\u001b[0;34m\u001b[0m\u001b[0;34m\u001b[0m\u001b[0m\n\u001b[0m",
            "\u001b[0;31mNameError\u001b[0m: name 'p12' is not defined"
          ]
        }
      ]
    },
    {
      "cell_type": "markdown",
      "metadata": {
        "id": "_7RoPTU_hXG1"
      },
      "source": [
        "## 2 Counting"
      ]
    },
    {
      "cell_type": "markdown",
      "metadata": {
        "id": "MMXFYCZ6hajg"
      },
      "source": [
        "Binomial Theorem\n",
        "\n",
        "$$\n",
        "\\left(x+y\\right)^9 = \\sum_{n = 0}^9\\binom 9 n x^ny^{9-n}\n",
        "$$"
      ]
    },
    {
      "cell_type": "markdown",
      "metadata": {
        "id": "cKYyVsfB-c4o"
      },
      "source": [
        "9 choose 5, x to 5, then 2 to 4"
      ]
    },
    {
      "cell_type": "code",
      "metadata": {
        "id": "5U5T3Fld5X0S"
      },
      "source": [
        ""
      ],
      "execution_count": null,
      "outputs": []
    }
  ]
}