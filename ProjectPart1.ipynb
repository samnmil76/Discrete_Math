{
  "nbformat": 4,
  "nbformat_minor": 0,
  "metadata": {
    "colab": {
      "name": "Untitled0.ipynb",
      "provenance": [],
      "include_colab_link": true
    },
    "kernelspec": {
      "name": "python3",
      "display_name": "Python 3"
    }
  },
  "cells": [
    {
      "cell_type": "markdown",
      "metadata": {
        "id": "view-in-github",
        "colab_type": "text"
      },
      "source": [
        "<a href=\"https://colab.research.google.com/github/samnmil76/Discrete_Math/blob/master/ProjectPart1.ipynb\" target=\"_parent\"><img src=\"https://colab.research.google.com/assets/colab-badge.svg\" alt=\"Open In Colab\"/></a>"
      ]
    },
    {
      "cell_type": "markdown",
      "metadata": {
        "id": "YCJaepmmfKrS"
      },
      "source": [
        "# Project Part 1# : CPSMA 3913 [Dr. Jacob's](https://github.com/nurfnick) Discrete Mathematics \n",
        "\n",
        "## Project Part 1: Sets & Functions\n",
        "\n",
        "### Samuel Miller - 223125\n",
        "\n",
        "\n"
      ]
    },
    {
      "cell_type": "markdown",
      "metadata": {
        "id": "Xs_Pvtua1Nnt"
      },
      "source": [
        "## 1 Sets"
      ]
    },
    {
      "cell_type": "markdown",
      "metadata": {
        "id": "2z6U1aB_fQDM"
      },
      "source": [
        "**(a) 3 different sets that contain at least 5 elements each.**"
      ]
    },
    {
      "cell_type": "code",
      "metadata": {
        "id": "GYVhLLzw2eX6"
      },
      "source": [
        "Alpha = [1,3,5,7,9]\n",
        "Bravo = [2,4,6,8,10]\n",
        "Charlie = [3,6,9,12,15]"
      ],
      "execution_count": 1,
      "outputs": []
    },
    {
      "cell_type": "markdown",
      "metadata": {
        "id": "PKDHFmyG5Ew-"
      },
      "source": [
        "**(b) My universal set *U* are all the elements in my three sets, plus a few that are not in any set.**"
      ]
    },
    {
      "cell_type": "code",
      "metadata": {
        "id": "kA219_Vd5e1W"
      },
      "source": [
        "Universal = [1,2,3,4,5,6,7,8,9,10,12,15,18,21,24]"
      ],
      "execution_count": 2,
      "outputs": []
    },
    {
      "cell_type": "markdown",
      "metadata": {
        "id": "zd5-j1Br7bA4"
      },
      "source": [
        "**(c) Computing the intersection and unions A ∪ B, A ∪ C, B ∪ C, A ∩ B, A ∩ C,and B ∩ C.**"
      ]
    },
    {
      "cell_type": "code",
      "metadata": {
        "id": "kqT5YwPy4whn",
        "colab": {
          "base_uri": "https://localhost:8080/"
        },
        "outputId": "47cef51d-1991-4e56-de17-59348a5b0305"
      },
      "source": [
        "UnionAlphaBravo = []\n",
        "\n",
        "for a in Alpha:\n",
        "  UnionAlphaBravo.append(a)\n",
        "for b in Bravo:\n",
        "  UnionAlphaBravo.append(b)\n",
        "\n",
        "set(UnionAlphaBravo) ##Returns what is included in sets Alpha and Bravo, but not what is included in both."
      ],
      "execution_count": 3,
      "outputs": [
        {
          "output_type": "execute_result",
          "data": {
            "text/plain": [
              "{1, 2, 3, 4, 5, 6, 7, 8, 9, 10}"
            ]
          },
          "metadata": {},
          "execution_count": 3
        }
      ]
    },
    {
      "cell_type": "code",
      "metadata": {
        "id": "8mViIV6j9iTH",
        "colab": {
          "base_uri": "https://localhost:8080/"
        },
        "outputId": "61753c9a-a35b-45d6-f511-ef23a1b7fe90"
      },
      "source": [
        "UnionAlphaCharlie = []\n",
        "\n",
        "for a in Alpha:\n",
        "  UnionAlphaCharlie.append(a)\n",
        "for b in Charlie:\n",
        "  UnionAlphaCharlie.append(b)\n",
        "\n",
        "set(UnionAlphaCharlie) ##Returns what is included in sets Alpha and Charlie, but not what is included in both."
      ],
      "execution_count": 4,
      "outputs": [
        {
          "output_type": "execute_result",
          "data": {
            "text/plain": [
              "{1, 3, 5, 6, 7, 9, 12, 15}"
            ]
          },
          "metadata": {},
          "execution_count": 4
        }
      ]
    },
    {
      "cell_type": "code",
      "metadata": {
        "id": "ghGa9pa6V2Kw",
        "colab": {
          "base_uri": "https://localhost:8080/"
        },
        "outputId": "c6ca0923-8691-4781-e613-8440830467ac"
      },
      "source": [
        "UnionBravoCharlie = []\n",
        "\n",
        "for a in Bravo:\n",
        "  UnionBravoCharlie.append(a)\n",
        "for b in Charlie:\n",
        "  UnionBravoCharlie.append(b)\n",
        "\n",
        "set(UnionBravoCharlie) ##Returns what is included in sets Bravo and Charlie, but not what is included in both."
      ],
      "execution_count": 5,
      "outputs": [
        {
          "output_type": "execute_result",
          "data": {
            "text/plain": [
              "{2, 3, 4, 6, 8, 9, 10, 12, 15}"
            ]
          },
          "metadata": {},
          "execution_count": 5
        }
      ]
    },
    {
      "cell_type": "code",
      "metadata": {
        "id": "ftxTVjyjXGxo",
        "colab": {
          "base_uri": "https://localhost:8080/"
        },
        "outputId": "80c54702-bc84-4572-c429-d7c366801ee2"
      },
      "source": [
        "IntersectionAlphaBravo = []\n",
        "\n",
        "for a in Alpha:\n",
        "  if a in Bravo:\n",
        "    IntersectionAlphaBravo.append(a)\n",
        "\n",
        "IntersectionAlphaBravo ##Returns nothing, because there is nothing that is in both sets Alpha and Bravo."
      ],
      "execution_count": 6,
      "outputs": [
        {
          "output_type": "execute_result",
          "data": {
            "text/plain": [
              "[]"
            ]
          },
          "metadata": {},
          "execution_count": 6
        }
      ]
    },
    {
      "cell_type": "code",
      "metadata": {
        "id": "UlatpIUo8muf",
        "colab": {
          "base_uri": "https://localhost:8080/"
        },
        "outputId": "c6972b40-ec66-4ff8-de2c-417981e33d4a"
      },
      "source": [
        "IntersectionAlphaCharlie = []\n",
        "\n",
        "for a in Alpha:\n",
        "  if a in Charlie:\n",
        "    IntersectionAlphaCharlie.append(a)\n",
        "\n",
        "IntersectionAlphaCharlie ##Returns only what is in both Alpha and Charlie."
      ],
      "execution_count": 7,
      "outputs": [
        {
          "output_type": "execute_result",
          "data": {
            "text/plain": [
              "[3, 9]"
            ]
          },
          "metadata": {},
          "execution_count": 7
        }
      ]
    },
    {
      "cell_type": "code",
      "metadata": {
        "id": "gbJnC711cH7-",
        "colab": {
          "base_uri": "https://localhost:8080/"
        },
        "outputId": "5aac3007-97f2-4945-f0c9-6b041ca29627"
      },
      "source": [
        "IntersectionBravoCharlie = []\n",
        "\n",
        "for a in Bravo:\n",
        "  if a in Charlie:\n",
        "    IntersectionBravoCharlie.append(a)\n",
        "\n",
        "IntersectionBravoCharlie ##Returns only what is in both Bravo and Charlie."
      ],
      "execution_count": 8,
      "outputs": [
        {
          "output_type": "execute_result",
          "data": {
            "text/plain": [
              "[6]"
            ]
          },
          "metadata": {},
          "execution_count": 8
        }
      ]
    },
    {
      "cell_type": "code",
      "metadata": {
        "id": "tGBPUvEc90Gf",
        "colab": {
          "base_uri": "https://localhost:8080/"
        },
        "outputId": "95cf4058-f4ff-4824-fa02-ecbccabe5e07"
      },
      "source": [
        "set(Alpha).intersection(set(Charlie))  ##Another way to do intersections ∩"
      ],
      "execution_count": null,
      "outputs": [
        {
          "output_type": "execute_result",
          "data": {
            "text/plain": [
              "{3, 9}"
            ]
          },
          "metadata": {},
          "execution_count": 17
        }
      ]
    },
    {
      "cell_type": "markdown",
      "metadata": {
        "id": "yody3R-ZcTp8"
      },
      "source": [
        "**(d) Computing the complements of each Alpha, Bravo, Charlie, and one more interesting one from the unions or intersections.**"
      ]
    },
    {
      "cell_type": "code",
      "metadata": {
        "id": "xltFf0OL-EyB",
        "colab": {
          "base_uri": "https://localhost:8080/"
        },
        "outputId": "eeaad171-ff77-4e0b-81a8-8e2968aa747e"
      },
      "source": [
        "ComplementAlpha = []\n",
        "\n",
        "for u in Universal:\n",
        "  if u not in Alpha:\n",
        "    ComplementAlpha.append(u)\n",
        "\n",
        "ComplementAlpha ##Returns all elements not in Alpha."
      ],
      "execution_count": 9,
      "outputs": [
        {
          "output_type": "execute_result",
          "data": {
            "text/plain": [
              "[2, 4, 6, 8, 10, 12, 15, 18, 21, 24]"
            ]
          },
          "metadata": {},
          "execution_count": 9
        }
      ]
    },
    {
      "cell_type": "code",
      "metadata": {
        "id": "78u0OhKji3O5",
        "colab": {
          "base_uri": "https://localhost:8080/"
        },
        "outputId": "667fa664-3f09-43c3-8709-83bfcc0e6f71"
      },
      "source": [
        "ComplementBravo = []\n",
        "\n",
        "for u in Universal:\n",
        "  if u not in Bravo:\n",
        "    ComplementBravo.append(u)\n",
        "\n",
        "ComplementBravo ##Returns all elements not in Bravo."
      ],
      "execution_count": 10,
      "outputs": [
        {
          "output_type": "execute_result",
          "data": {
            "text/plain": [
              "[1, 3, 5, 7, 9, 12, 15, 18, 21, 24]"
            ]
          },
          "metadata": {},
          "execution_count": 10
        }
      ]
    },
    {
      "cell_type": "code",
      "metadata": {
        "id": "H4zVWxqxi_Vn",
        "colab": {
          "base_uri": "https://localhost:8080/"
        },
        "outputId": "ecaafd32-87d5-4fbb-eefa-77702081ccb1"
      },
      "source": [
        "ComplementCharlie = []\n",
        "\n",
        "for u in Universal:\n",
        "  if u not in Charlie:\n",
        "    ComplementCharlie.append(u)\n",
        "\n",
        "ComplementCharlie ##Returns all elements not in Charlie."
      ],
      "execution_count": 11,
      "outputs": [
        {
          "output_type": "execute_result",
          "data": {
            "text/plain": [
              "[1, 2, 4, 5, 7, 8, 10, 18, 21, 24]"
            ]
          },
          "metadata": {},
          "execution_count": 11
        }
      ]
    },
    {
      "cell_type": "code",
      "metadata": {
        "id": "gaVpH6w-lP6U",
        "colab": {
          "base_uri": "https://localhost:8080/"
        },
        "outputId": "2704b85a-17bc-407f-d353-d653e30aef7b"
      },
      "source": [
        "ComplementAlphaCharlie = []\n",
        "\n",
        "for u in Universal:\n",
        "  if u not in Alpha and Charlie:\n",
        "    ComplementAlphaCharlie.append(u)\n",
        "\n",
        "ComplementAlphaCharlie ##Correctly excluded elements from Alpha but kept a couple from Charlie; will need more looking in to."
      ],
      "execution_count": null,
      "outputs": [
        {
          "output_type": "execute_result",
          "data": {
            "text/plain": [
              "[2, 4, 6, 8, 10, 12, 15, 18, 21, 24]"
            ]
          },
          "metadata": {},
          "execution_count": 23
        }
      ]
    },
    {
      "cell_type": "markdown",
      "metadata": {
        "id": "JSFtOlfZnK9a"
      },
      "source": [
        "**(e) Are any sets subsets?**\n",
        "\n",
        "With the three lists of numbers I picked for my sets, there are no subsets because there are only one or two numbers from one set in another, and a subset requires that all the numbers contained in one set be included in another set.  "
      ]
    },
    {
      "cell_type": "markdown",
      "metadata": {
        "id": "WoyO6w-Zn4Ev"
      },
      "source": [
        "**(f) Compute a Power for set A.  How many elements would the power set of U have?**"
      ]
    },
    {
      "cell_type": "code",
      "metadata": {
        "id": "kEKh2Fhkn26G"
      },
      "source": [
        "def DPpowerset(s):\n",
        "  powerset = [[]]\n",
        "  for i in s:\n",
        "    for sett in powerset:\n",
        "      powerset = powerset + [sett + [i]]\n",
        "  return powerset ##Instructions to call a power set.  Must use sett and not set because set with one 't' is another command.  "
      ],
      "execution_count": 12,
      "outputs": []
    },
    {
      "cell_type": "code",
      "metadata": {
        "id": "9lcWvJopopYk",
        "colab": {
          "base_uri": "https://localhost:8080/"
        },
        "outputId": "e7b37ea5-a883-4959-a101-f295cf7a18d3"
      },
      "source": [
        "DPpowerset(Alpha)"
      ],
      "execution_count": null,
      "outputs": [
        {
          "output_type": "execute_result",
          "data": {
            "text/plain": [
              "[[],\n",
              " [1],\n",
              " [3],\n",
              " [1, 3],\n",
              " [5],\n",
              " [1, 5],\n",
              " [3, 5],\n",
              " [1, 3, 5],\n",
              " [7],\n",
              " [1, 7],\n",
              " [3, 7],\n",
              " [1, 3, 7],\n",
              " [5, 7],\n",
              " [1, 5, 7],\n",
              " [3, 5, 7],\n",
              " [1, 3, 5, 7],\n",
              " [9],\n",
              " [1, 9],\n",
              " [3, 9],\n",
              " [1, 3, 9],\n",
              " [5, 9],\n",
              " [1, 5, 9],\n",
              " [3, 5, 9],\n",
              " [1, 3, 5, 9],\n",
              " [7, 9],\n",
              " [1, 7, 9],\n",
              " [3, 7, 9],\n",
              " [1, 3, 7, 9],\n",
              " [5, 7, 9],\n",
              " [1, 5, 7, 9],\n",
              " [3, 5, 7, 9],\n",
              " [1, 3, 5, 7, 9]]"
            ]
          },
          "metadata": {},
          "execution_count": 25
        }
      ]
    },
    {
      "cell_type": "code",
      "metadata": {
        "id": "xpsNzfc9pUaG"
      },
      "source": [
        "#DPpowerset(Universal)# ##Results from calculating the Universal power set; I knew there would be a lot listed but it's different actually seeing it listed.  Commented out because it takes up an ungodly amount of screen space."
      ],
      "execution_count": 14,
      "outputs": []
    },
    {
      "cell_type": "code",
      "metadata": {
        "id": "rU_BgC_kfH7g"
      },
      "source": [
        "def linearfunction(x):\n",
        "  return 5*x+2 \n",
        "# then do some coding that does that!  Try to adhere to Clean Code principle as much as possible!\n",
        "\n"
      ],
      "execution_count": 15,
      "outputs": []
    },
    {
      "cell_type": "markdown",
      "metadata": {
        "id": "Iggon6VK1Vxo"
      },
      "source": [
        "Some more text hopefully explaining why what you did worked."
      ]
    },
    {
      "cell_type": "markdown",
      "metadata": {
        "id": "_7RoPTU_hXG1"
      },
      "source": [
        "## 2 Functions"
      ]
    },
    {
      "cell_type": "markdown",
      "metadata": {
        "id": "MMXFYCZ6hajg"
      },
      "source": [
        "Math and other fun stuff....\n",
        "$$\n",
        "f_n(x) = \\sum_{i= 0}^n\\frac{\\frac{d}{dx}\\sin x|_{x = \\frac \\pi 4}}{n!} \\left(x-\\frac\\pi4\\right)^n\n",
        "$$\n",
        "\n",
        "Make sure to mention if you are using packages!\n",
        "\n",
        "In order to compute these, I will need to import the math package."
      ]
    },
    {
      "cell_type": "code",
      "metadata": {
        "id": "DZDUKVIN-yUl"
      },
      "source": [
        "#import math\n",
        "#import numpy as np\n",
        "\n",
        "#def f(x):\n",
        "  #return np.e**(-x**2)  ##Wanted to keep the original function to use as an example, so left as comment."
      ],
      "execution_count": null,
      "outputs": []
    },
    {
      "cell_type": "markdown",
      "metadata": {
        "id": "YK9ebsqI35yq"
      },
      "source": [
        "**(a) Define a function with at least three (3) features.**"
      ]
    },
    {
      "cell_type": "code",
      "metadata": {
        "id": "LNSkrv7e3hza"
      },
      "source": [
        "import math\n",
        "import numpy as np\n",
        "\n",
        "def effof(x):\n",
        "  return 42*x^4+1*x-3"
      ],
      "execution_count": 19,
      "outputs": []
    },
    {
      "cell_type": "code",
      "metadata": {
        "id": "ONJ_bfCx_yng",
        "colab": {
          "base_uri": "https://localhost:8080/"
        },
        "outputId": "680e7678-0307-4f86-a6e0-5ceb586a3d16"
      },
      "source": [
        "effof(2)"
      ],
      "execution_count": 20,
      "outputs": [
        {
          "output_type": "execute_result",
          "data": {
            "text/plain": [
              "87"
            ]
          },
          "metadata": {},
          "execution_count": 20
        }
      ]
    },
    {
      "cell_type": "code",
      "metadata": {
        "id": "K8SMLgtf6BLN",
        "outputId": "89af52d8-83db-486a-fcac-a5ebcb4a7647",
        "colab": {
          "base_uri": "https://localhost:8080/",
          "height": 282
        }
      },
      "source": [
        "import matplotlib.pyplot as plt\n",
        "\n",
        "x = np.arange(-4,4,.1)\n",
        "\n",
        "plt.plot(x,effof(x))"
      ],
      "execution_count": 25,
      "outputs": [
        {
          "output_type": "error",
          "ename": "TypeError",
          "evalue": "ignored",
          "traceback": [
            "\u001b[0;31m---------------------------------------------------------------------------\u001b[0m",
            "\u001b[0;31mTypeError\u001b[0m                                 Traceback (most recent call last)",
            "\u001b[0;32m<ipython-input-25-0c699ca9c10f>\u001b[0m in \u001b[0;36m<module>\u001b[0;34m()\u001b[0m\n\u001b[1;32m      3\u001b[0m \u001b[0mx\u001b[0m \u001b[0;34m=\u001b[0m \u001b[0mnp\u001b[0m\u001b[0;34m.\u001b[0m\u001b[0marange\u001b[0m\u001b[0;34m(\u001b[0m\u001b[0;34m-\u001b[0m\u001b[0;36m4\u001b[0m\u001b[0;34m,\u001b[0m\u001b[0;36m4\u001b[0m\u001b[0;34m,\u001b[0m\u001b[0;36m.1\u001b[0m\u001b[0;34m)\u001b[0m\u001b[0;34m\u001b[0m\u001b[0;34m\u001b[0m\u001b[0m\n\u001b[1;32m      4\u001b[0m \u001b[0;34m\u001b[0m\u001b[0m\n\u001b[0;32m----> 5\u001b[0;31m \u001b[0mplt\u001b[0m\u001b[0;34m.\u001b[0m\u001b[0mplot\u001b[0m\u001b[0;34m(\u001b[0m\u001b[0mx\u001b[0m\u001b[0;34m,\u001b[0m\u001b[0meffof\u001b[0m\u001b[0;34m(\u001b[0m\u001b[0mx\u001b[0m\u001b[0;34m)\u001b[0m\u001b[0;34m)\u001b[0m\u001b[0;34m\u001b[0m\u001b[0;34m\u001b[0m\u001b[0m\n\u001b[0m",
            "\u001b[0;32m<ipython-input-19-6412219bfcd7>\u001b[0m in \u001b[0;36meffof\u001b[0;34m(x)\u001b[0m\n\u001b[1;32m      3\u001b[0m \u001b[0;34m\u001b[0m\u001b[0m\n\u001b[1;32m      4\u001b[0m \u001b[0;32mdef\u001b[0m \u001b[0meffof\u001b[0m\u001b[0;34m(\u001b[0m\u001b[0mx\u001b[0m\u001b[0;34m)\u001b[0m\u001b[0;34m:\u001b[0m\u001b[0;34m\u001b[0m\u001b[0;34m\u001b[0m\u001b[0m\n\u001b[0;32m----> 5\u001b[0;31m   \u001b[0;32mreturn\u001b[0m \u001b[0;36m42\u001b[0m\u001b[0;34m*\u001b[0m\u001b[0mx\u001b[0m\u001b[0;34m^\u001b[0m\u001b[0;36m4\u001b[0m\u001b[0;34m+\u001b[0m\u001b[0;36m1\u001b[0m\u001b[0;34m*\u001b[0m\u001b[0mx\u001b[0m\u001b[0;34m-\u001b[0m\u001b[0;36m3\u001b[0m\u001b[0;34m\u001b[0m\u001b[0;34m\u001b[0m\u001b[0m\n\u001b[0m",
            "\u001b[0;31mTypeError\u001b[0m: ufunc 'bitwise_xor' not supported for the input types, and the inputs could not be safely coerced to any supported types according to the casting rule ''safe''"
          ]
        }
      ]
    },
    {
      "cell_type": "markdown",
      "metadata": {
        "id": "eBIdsfpi5r-X"
      },
      "source": [
        "**(b) Is the function one-to-one, onto, or bi-jective?  Could the domaain or range be changed to make it bi-jective?**\n",
        "\n",
        "- "
      ]
    },
    {
      "cell_type": "code",
      "metadata": {
        "id": "5U5T3Fld5X0S",
        "colab": {
          "base_uri": "https://localhost:8080/",
          "height": 282
        },
        "outputId": "f8039416-ff48-4a41-8f99-50445f009eed"
      },
      "source": [
        "import matplotlib.pyplot as plt\n",
        "\n",
        "\n",
        "x = np.arange(-4,4,.1)\n",
        "\n",
        "plt.plot(x,f(x))"
      ],
      "execution_count": null,
      "outputs": [
        {
          "output_type": "execute_result",
          "data": {
            "text/plain": [
              "[<matplotlib.lines.Line2D at 0x7f0a3a1203d0>]"
            ]
          },
          "metadata": {},
          "execution_count": 20
        },
        {
          "output_type": "display_data",
          "data": {
            "image/png": "[encoded data removed]",
            "text/plain": [
              "<Figure size 432x288 with 1 Axes>"
            ]
          },
          "metadata": {
            "needs_background": "light"
          }
        }
      ]
    },
    {
      "cell_type": "code",
      "metadata": {
        "id": "YH9qvwLF_mse"
      },
      "source": [
        ""
      ],
      "execution_count": null,
      "outputs": []
    }
  ]
}