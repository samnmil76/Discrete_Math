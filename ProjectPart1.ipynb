{
  "nbformat": 4,
  "nbformat_minor": 0,
  "metadata": {
    "colab": {
      "name": "Untitled0.ipynb",
      "provenance": [],
      "include_colab_link": true
    },
    "kernelspec": {
      "name": "python3",
      "display_name": "Python 3"
    }
  },
  "cells": [
    {
      "cell_type": "markdown",
      "metadata": {
        "id": "view-in-github",
        "colab_type": "text"
      },
      "source": [
        "<a href=\"https://colab.research.google.com/github/samnmil76/Discrete_Math/blob/master/ProjectPart1.ipynb\" target=\"_parent\"><img src=\"https://colab.research.google.com/assets/colab-badge.svg\" alt=\"Open In Colab\"/></a>"
      ]
    },
    {
      "cell_type": "markdown",
      "metadata": {
        "id": "YCJaepmmfKrS"
      },
      "source": [
        "# Project Part 1# : CPSMA 3913 [Dr. Jacob's](https://github.com/nurfnick) Discrete Mathematics \n",
        "\n",
        "## Project Part 1: Sets & Functions\n",
        "\n",
        "### Samuel Miller - 223125\n",
        "\n",
        "\n"
      ]
    },
    {
      "cell_type": "markdown",
      "metadata": {
        "id": "Xs_Pvtua1Nnt"
      },
      "source": [
        "## 1. Sets"
      ]
    },
    {
      "cell_type": "markdown",
      "metadata": {
        "id": "2z6U1aB_fQDM"
      },
      "source": [
        "**(a) 3 different sets that contain at least 5 elements each.**"
      ]
    },
    {
      "cell_type": "code",
      "metadata": {
        "id": "GYVhLLzw2eX6"
      },
      "source": [
        "Alpha = [1,3,5,7,9]\n",
        "Bravo = [2,4,6,8,10]\n",
        "Charlie = [3,6,9,12,15]"
      ],
      "execution_count": 23,
      "outputs": []
    },
    {
      "cell_type": "markdown",
      "metadata": {
        "id": "PKDHFmyG5Ew-"
      },
      "source": [
        "**(b) My universal set *U* are all the elements in my three sets, plus a few that are not in any set.**"
      ]
    },
    {
      "cell_type": "code",
      "metadata": {
        "id": "kA219_Vd5e1W"
      },
      "source": [
        "Universal = [1,2,3,4,5,6,7,8,9,10,12,15,18,21,24]"
      ],
      "execution_count": null,
      "outputs": []
    },
    {
      "cell_type": "markdown",
      "metadata": {
        "id": "zd5-j1Br7bA4"
      },
      "source": [
        "**(c) Computing the intersection and unions A ∪ B, A ∪ C, B ∪ C, A ∩ B, A ∩ C,and B ∩ C.**"
      ]
    },
    {
      "cell_type": "code",
      "metadata": {
        "id": "kqT5YwPy4whn",
        "colab": {
          "base_uri": "https://localhost:8080/"
        },
        "outputId": "47cef51d-1991-4e56-de17-59348a5b0305"
      },
      "source": [
        "UnionAlphaBravo = []\n",
        "\n",
        "for a in Alpha:\n",
        "  UnionAlphaBravo.append(a)\n",
        "for b in Bravo:\n",
        "  UnionAlphaBravo.append(b)\n",
        "\n",
        "set(UnionAlphaBravo) ##Returns what is included in sets Alpha and Bravo, but not what is included in both."
      ],
      "execution_count": null,
      "outputs": [
        {
          "output_type": "execute_result",
          "data": {
            "text/plain": [
              "{1, 2, 3, 4, 5, 6, 7, 8, 9, 10}"
            ]
          },
          "metadata": {},
          "execution_count": 3
        }
      ]
    },
    {
      "cell_type": "code",
      "metadata": {
        "id": "8mViIV6j9iTH",
        "colab": {
          "base_uri": "https://localhost:8080/"
        },
        "outputId": "61753c9a-a35b-45d6-f511-ef23a1b7fe90"
      },
      "source": [
        "UnionAlphaCharlie = []\n",
        "\n",
        "for a in Alpha:\n",
        "  UnionAlphaCharlie.append(a)\n",
        "for b in Charlie:\n",
        "  UnionAlphaCharlie.append(b)\n",
        "\n",
        "set(UnionAlphaCharlie) ##Returns what is included in sets Alpha and Charlie, but not what is included in both."
      ],
      "execution_count": null,
      "outputs": [
        {
          "output_type": "execute_result",
          "data": {
            "text/plain": [
              "{1, 3, 5, 6, 7, 9, 12, 15}"
            ]
          },
          "metadata": {},
          "execution_count": 4
        }
      ]
    },
    {
      "cell_type": "code",
      "metadata": {
        "id": "ghGa9pa6V2Kw",
        "colab": {
          "base_uri": "https://localhost:8080/"
        },
        "outputId": "c6ca0923-8691-4781-e613-8440830467ac"
      },
      "source": [
        "UnionBravoCharlie = []\n",
        "\n",
        "for a in Bravo:\n",
        "  UnionBravoCharlie.append(a)\n",
        "for b in Charlie:\n",
        "  UnionBravoCharlie.append(b)\n",
        "\n",
        "set(UnionBravoCharlie) ##Returns what is included in sets Bravo and Charlie, but not what is included in both."
      ],
      "execution_count": null,
      "outputs": [
        {
          "output_type": "execute_result",
          "data": {
            "text/plain": [
              "{2, 3, 4, 6, 8, 9, 10, 12, 15}"
            ]
          },
          "metadata": {},
          "execution_count": 5
        }
      ]
    },
    {
      "cell_type": "code",
      "metadata": {
        "id": "ftxTVjyjXGxo",
        "colab": {
          "base_uri": "https://localhost:8080/"
        },
        "outputId": "80c54702-bc84-4572-c429-d7c366801ee2"
      },
      "source": [
        "IntersectionAlphaBravo = []\n",
        "\n",
        "for a in Alpha:\n",
        "  if a in Bravo:\n",
        "    IntersectionAlphaBravo.append(a)\n",
        "\n",
        "IntersectionAlphaBravo ##Returns nothing, because there is nothing that is in both sets Alpha and Bravo."
      ],
      "execution_count": null,
      "outputs": [
        {
          "output_type": "execute_result",
          "data": {
            "text/plain": [
              "[]"
            ]
          },
          "metadata": {},
          "execution_count": 6
        }
      ]
    },
    {
      "cell_type": "code",
      "metadata": {
        "id": "UlatpIUo8muf",
        "colab": {
          "base_uri": "https://localhost:8080/"
        },
        "outputId": "c6972b40-ec66-4ff8-de2c-417981e33d4a"
      },
      "source": [
        "IntersectionAlphaCharlie = []\n",
        "\n",
        "for a in Alpha:\n",
        "  if a in Charlie:\n",
        "    IntersectionAlphaCharlie.append(a)\n",
        "\n",
        "IntersectionAlphaCharlie ##Returns only what is in both Alpha and Charlie."
      ],
      "execution_count": null,
      "outputs": [
        {
          "output_type": "execute_result",
          "data": {
            "text/plain": [
              "[3, 9]"
            ]
          },
          "metadata": {},
          "execution_count": 7
        }
      ]
    },
    {
      "cell_type": "code",
      "metadata": {
        "id": "gbJnC711cH7-",
        "colab": {
          "base_uri": "https://localhost:8080/"
        },
        "outputId": "5aac3007-97f2-4945-f0c9-6b041ca29627"
      },
      "source": [
        "IntersectionBravoCharlie = []\n",
        "\n",
        "for a in Bravo:\n",
        "  if a in Charlie:\n",
        "    IntersectionBravoCharlie.append(a)\n",
        "\n",
        "IntersectionBravoCharlie ##Returns only what is in both Bravo and Charlie."
      ],
      "execution_count": null,
      "outputs": [
        {
          "output_type": "execute_result",
          "data": {
            "text/plain": [
              "[6]"
            ]
          },
          "metadata": {},
          "execution_count": 8
        }
      ]
    },
    {
      "cell_type": "code",
      "metadata": {
        "id": "tGBPUvEc90Gf",
        "colab": {
          "base_uri": "https://localhost:8080/"
        },
        "outputId": "95cf4058-f4ff-4824-fa02-ecbccabe5e07"
      },
      "source": [
        "set(Alpha).intersection(set(Charlie))  ##Another way to do intersections ∩"
      ],
      "execution_count": null,
      "outputs": [
        {
          "output_type": "execute_result",
          "data": {
            "text/plain": [
              "{3, 9}"
            ]
          },
          "metadata": {},
          "execution_count": 17
        }
      ]
    },
    {
      "cell_type": "markdown",
      "metadata": {
        "id": "yody3R-ZcTp8"
      },
      "source": [
        "**(d) Computing the complements of each Alpha, Bravo, Charlie, and one more interesting one from the unions or intersections.**"
      ]
    },
    {
      "cell_type": "code",
      "metadata": {
        "id": "xltFf0OL-EyB",
        "colab": {
          "base_uri": "https://localhost:8080/"
        },
        "outputId": "eeaad171-ff77-4e0b-81a8-8e2968aa747e"
      },
      "source": [
        "ComplementAlpha = []\n",
        "\n",
        "for u in Universal:\n",
        "  if u not in Alpha:\n",
        "    ComplementAlpha.append(u)\n",
        "\n",
        "ComplementAlpha ##Returns all elements not in Alpha."
      ],
      "execution_count": null,
      "outputs": [
        {
          "output_type": "execute_result",
          "data": {
            "text/plain": [
              "[2, 4, 6, 8, 10, 12, 15, 18, 21, 24]"
            ]
          },
          "metadata": {},
          "execution_count": 9
        }
      ]
    },
    {
      "cell_type": "code",
      "metadata": {
        "id": "78u0OhKji3O5",
        "colab": {
          "base_uri": "https://localhost:8080/"
        },
        "outputId": "667fa664-3f09-43c3-8709-83bfcc0e6f71"
      },
      "source": [
        "ComplementBravo = []\n",
        "\n",
        "for u in Universal:\n",
        "  if u not in Bravo:\n",
        "    ComplementBravo.append(u)\n",
        "\n",
        "ComplementBravo ##Returns all elements not in Bravo."
      ],
      "execution_count": null,
      "outputs": [
        {
          "output_type": "execute_result",
          "data": {
            "text/plain": [
              "[1, 3, 5, 7, 9, 12, 15, 18, 21, 24]"
            ]
          },
          "metadata": {},
          "execution_count": 10
        }
      ]
    },
    {
      "cell_type": "code",
      "metadata": {
        "id": "H4zVWxqxi_Vn",
        "colab": {
          "base_uri": "https://localhost:8080/"
        },
        "outputId": "ecaafd32-87d5-4fbb-eefa-77702081ccb1"
      },
      "source": [
        "ComplementCharlie = []\n",
        "\n",
        "for u in Universal:\n",
        "  if u not in Charlie:\n",
        "    ComplementCharlie.append(u)\n",
        "\n",
        "ComplementCharlie ##Returns all elements not in Charlie."
      ],
      "execution_count": null,
      "outputs": [
        {
          "output_type": "execute_result",
          "data": {
            "text/plain": [
              "[1, 2, 4, 5, 7, 8, 10, 18, 21, 24]"
            ]
          },
          "metadata": {},
          "execution_count": 11
        }
      ]
    },
    {
      "cell_type": "code",
      "metadata": {
        "id": "gaVpH6w-lP6U",
        "colab": {
          "base_uri": "https://localhost:8080/"
        },
        "outputId": "2704b85a-17bc-407f-d353-d653e30aef7b"
      },
      "source": [
        "ComplementAlphaCharlie = []\n",
        "\n",
        "for u in Universal:\n",
        "  if u not in Alpha and Charlie:\n",
        "    ComplementAlphaCharlie.append(u)\n",
        "\n",
        "ComplementAlphaCharlie ##Correctly excluded elements from Alpha but kept a couple from Charlie; will need more looking in to."
      ],
      "execution_count": null,
      "outputs": [
        {
          "output_type": "execute_result",
          "data": {
            "text/plain": [
              "[2, 4, 6, 8, 10, 12, 15, 18, 21, 24]"
            ]
          },
          "metadata": {},
          "execution_count": 23
        }
      ]
    },
    {
      "cell_type": "markdown",
      "metadata": {
        "id": "JSFtOlfZnK9a"
      },
      "source": [
        "**(e) Are any sets subsets?**\n",
        "  "
      ]
    },
    {
      "cell_type": "code",
      "metadata": {
        "id": "PIwfylVixcAD",
        "colab": {
          "base_uri": "https://localhost:8080/"
        },
        "outputId": "aebc76b4-3847-4385-d6d2-183ac7dc9306"
      },
      "source": [
        "def IsASubset(Alpha,Bravo,Charlie):\n",
        "  for a in Alpha:\n",
        "    if a not in Bravo:\n",
        "      if a not in Charlie:\n",
        "        return False\n",
        "  return True\n",
        "\n",
        "IsASubset(Alpha,Bravo,Charlie)"
      ],
      "execution_count": null,
      "outputs": [
        {
          "output_type": "execute_result",
          "data": {
            "text/plain": [
              "False"
            ]
          },
          "metadata": {},
          "execution_count": 24
        }
      ]
    },
    {
      "cell_type": "markdown",
      "metadata": {
        "id": "H05PdZBQypOl"
      },
      "source": [
        "No subsets in any of my three sets because no one set contains the same elements as another."
      ]
    },
    {
      "cell_type": "markdown",
      "metadata": {
        "id": "WoyO6w-Zn4Ev"
      },
      "source": [
        "**(f) Compute a Power for set A.  How many elements would the power set of U have?**"
      ]
    },
    {
      "cell_type": "code",
      "metadata": {
        "id": "kEKh2Fhkn26G"
      },
      "source": [
        "def DPpowerset(s):\n",
        "  powerset = [[]]\n",
        "  for i in s:\n",
        "    for sett in powerset:\n",
        "      powerset = powerset + [sett + [i]]\n",
        "  return powerset ##Instructions to call a power set.  Must use sett and not set because set with one 't' is another command.  "
      ],
      "execution_count": null,
      "outputs": []
    },
    {
      "cell_type": "code",
      "metadata": {
        "id": "9lcWvJopopYk",
        "colab": {
          "base_uri": "https://localhost:8080/"
        },
        "outputId": "e7b37ea5-a883-4959-a101-f295cf7a18d3"
      },
      "source": [
        "DPpowerset(Alpha)"
      ],
      "execution_count": null,
      "outputs": [
        {
          "output_type": "execute_result",
          "data": {
            "text/plain": [
              "[[],\n",
              " [1],\n",
              " [3],\n",
              " [1, 3],\n",
              " [5],\n",
              " [1, 5],\n",
              " [3, 5],\n",
              " [1, 3, 5],\n",
              " [7],\n",
              " [1, 7],\n",
              " [3, 7],\n",
              " [1, 3, 7],\n",
              " [5, 7],\n",
              " [1, 5, 7],\n",
              " [3, 5, 7],\n",
              " [1, 3, 5, 7],\n",
              " [9],\n",
              " [1, 9],\n",
              " [3, 9],\n",
              " [1, 3, 9],\n",
              " [5, 9],\n",
              " [1, 5, 9],\n",
              " [3, 5, 9],\n",
              " [1, 3, 5, 9],\n",
              " [7, 9],\n",
              " [1, 7, 9],\n",
              " [3, 7, 9],\n",
              " [1, 3, 7, 9],\n",
              " [5, 7, 9],\n",
              " [1, 5, 7, 9],\n",
              " [3, 5, 7, 9],\n",
              " [1, 3, 5, 7, 9]]"
            ]
          },
          "metadata": {},
          "execution_count": 25
        }
      ]
    },
    {
      "cell_type": "code",
      "metadata": {
        "id": "xpsNzfc9pUaG"
      },
      "source": [
        "#DPpowerset(Universal)# ##Results from calculating the Universal power set; I knew there would be a lot listed but it's different actually seeing it listed.  Commented out because it takes up an ungodly amount of screen space."
      ],
      "execution_count": null,
      "outputs": []
    },
    {
      "cell_type": "code",
      "metadata": {
        "id": "rU_BgC_kfH7g"
      },
      "source": [
        "def linearfunction(x):\n",
        "  return 5*x+2 \n",
        "# then do some coding that does that!  Try to adhere to Clean Code principle as much as possible!\n",
        "\n"
      ],
      "execution_count": null,
      "outputs": []
    },
    {
      "cell_type": "markdown",
      "metadata": {
        "id": "Iggon6VK1Vxo"
      },
      "source": [
        "Some more text hopefully explaining why what you did worked."
      ]
    },
    {
      "cell_type": "markdown",
      "metadata": {
        "id": "_7RoPTU_hXG1"
      },
      "source": [
        "## 2. Functions"
      ]
    },
    {
      "cell_type": "markdown",
      "metadata": {
        "id": "MMXFYCZ6hajg"
      },
      "source": [
        "Math and other fun stuff....\n",
        "$$\n",
        "f_n(x) = \\sum_{i= 0}^n\\frac{\\frac{d}{dx}\\sin x|_{x = \\frac \\pi 4}}{n!} \\left(x-\\frac\\pi4\\right)^n\n",
        "$$\n",
        "\n",
        "Make sure to mention if you are using packages!\n",
        "\n",
        "In order to compute these, I will need to import the math package."
      ]
    },
    {
      "cell_type": "code",
      "metadata": {
        "id": "DZDUKVIN-yUl"
      },
      "source": [
        "#import math\n",
        "#import numpy as np\n",
        "\n",
        "#def f(x):\n",
        "  #return np.e**(-x**2)  ##Wanted to keep the original function to use as an example, so left as comment."
      ],
      "execution_count": 1,
      "outputs": []
    },
    {
      "cell_type": "code",
      "metadata": {
        "id": "nuBmPXYSoqm6",
        "colab": {
          "base_uri": "https://localhost:8080/"
        },
        "outputId": "a76a32b2-3133-4d4f-afee-6c754ce03912"
      },
      "source": [
        "#f(6)"
      ],
      "execution_count": 2,
      "outputs": [
        {
          "output_type": "execute_result",
          "data": {
            "text/plain": [
              "2.319522830243574e-16"
            ]
          },
          "metadata": {},
          "execution_count": 2
        }
      ]
    },
    {
      "cell_type": "markdown",
      "metadata": {
        "id": "YK9ebsqI35yq"
      },
      "source": [
        "**(a) Define a function with at least three (3) features.**"
      ]
    },
    {
      "cell_type": "code",
      "metadata": {
        "id": "LNSkrv7e3hza"
      },
      "source": [
        "import math\n",
        "import numpy as np\n",
        "\n",
        "def effof(x):\n",
        "  return x**2+2.5*x-2 #Must use ** instead of ^ for exponents."
      ],
      "execution_count": 3,
      "outputs": []
    },
    {
      "cell_type": "code",
      "metadata": {
        "id": "ONJ_bfCx_yng",
        "colab": {
          "base_uri": "https://localhost:8080/"
        },
        "outputId": "bc24837f-057a-4ba1-8f91-b58ca76c6665"
      },
      "source": [
        "effof(0) "
      ],
      "execution_count": 40,
      "outputs": [
        {
          "output_type": "execute_result",
          "data": {
            "text/plain": [
              "-2.0"
            ]
          },
          "metadata": {},
          "execution_count": 40
        }
      ]
    },
    {
      "cell_type": "code",
      "metadata": {
        "id": "3NvUlRST0lt_",
        "colab": {
          "base_uri": "https://localhost:8080/",
          "height": 282
        },
        "outputId": "906abcc8-d876-4c0f-e2eb-b3d31dccc790"
      },
      "source": [
        "import matplotlib.pyplot as plt\n",
        "\n",
        "\n",
        "x = np.arange(-4.45,2,.1)\n",
        "\n",
        "plt.plot(x,effof(x)) #Changed the plot graph dimmensions around to make it as symmetrical looking as possible; it is symmetrical when plotted with Desmos' calculator."
      ],
      "execution_count": 15,
      "outputs": [
        {
          "output_type": "execute_result",
          "data": {
            "text/plain": [
              "[<matplotlib.lines.Line2D at 0x7f27b5bec5d0>]"
            ]
          },
          "metadata": {},
          "execution_count": 15
        },
        {
          "output_type": "display_data",
          "data": {
            "image/png": "[encoded data removed]",
            "text/plain": [
              "<Figure size 432x288 with 1 Axes>"
            ]
          },
          "metadata": {
            "needs_background": "light"
          }
        }
      ]
    },
    {
      "cell_type": "markdown",
      "metadata": {
        "id": "eBIdsfpi5r-X"
      },
      "source": [
        "**(b) Is the function one-to-one, onto, or bi-jective?  Could the domain or range be changed to make it bi-jective?**\n",
        "\n",
        "- My function is not bi-jective because it is not both one-to-one AND onto; it is "
      ]
    },
    {
      "cell_type": "code",
      "metadata": {
        "id": "YH9qvwLF_mse"
      },
      "source": [
        "def effofInverse(x):\n",
        "  return x**2+2.5*x-2 #I'll be honest I don't remember much about the inverse with the exception that when graphed, it's the mirrored opposite."
      ],
      "execution_count": 42,
      "outputs": []
    },
    {
      "cell_type": "code",
      "metadata": {
        "id": "gWeB46HYJafM",
        "colab": {
          "base_uri": "https://localhost:8080/"
        },
        "outputId": "3f5cca02-2cc8-42e6-e5ce-e623f4db1c7d"
      },
      "source": [
        "effofInverse(effof(-2)) "
      ],
      "execution_count": 13,
      "outputs": [
        {
          "output_type": "execute_result",
          "data": {
            "text/plain": [
              "-0.5"
            ]
          },
          "metadata": {},
          "execution_count": 13
        }
      ]
    },
    {
      "cell_type": "code",
      "metadata": {
        "id": "xV76PR06JiZD",
        "outputId": "13d00895-ccb6-4b54-a1a1-2ac7b3ba1350",
        "colab": {
          "base_uri": "https://localhost:8080/",
          "height": 286
        }
      },
      "source": [
        "import matplotlib.pyplot as plt\n",
        "\n",
        "x1 = np.arange(0,4,.1)\n",
        "x2 = np.arange(0,.5,.01)\n",
        "\n",
        "plt.plot(x1,effof(x1))\n",
        "plt.plot(x2,effofInverse(x2))\n",
        "plt.plot(x1,x1)\n",
        "\n",
        "plt.xlim(0, 4)\n",
        "plt.ylim(0, 4) #Using the example, I plotted the inverse; strangely though, I did not get the same errors as shown in the example."
      ],
      "execution_count": 16,
      "outputs": [
        {
          "output_type": "execute_result",
          "data": {
            "text/plain": [
              "(0.0, 4.0)"
            ]
          },
          "metadata": {},
          "execution_count": 16
        },
        {
          "output_type": "display_data",
          "data": {
            "image/png": "[encoded data removed]",
            "text/plain": [
              "<Figure size 432x288 with 1 Axes>"
            ]
          },
          "metadata": {
            "needs_background": "light"
          }
        }
      ]
    },
    {
      "cell_type": "markdown",
      "metadata": {
        "id": "InmVnnDV7VxR"
      },
      "source": [
        "## 3. Dictionaries"
      ]
    },
    {
      "cell_type": "markdown",
      "metadata": {
        "id": "i3pNphph_M_8"
      },
      "source": [
        "**(a) Define any dictionary from set A to B from part 1.**"
      ]
    },
    {
      "cell_type": "code",
      "metadata": {
        "id": "m9Iljvjw7ge5"
      },
      "source": [
        "Alpha = [1,3,5,7,9]\n",
        "Bravo = [2,4,6,8,10]\n",
        "\n",
        "dictionary = dict({a:b for a,b in zip(Alpha, Bravo)})"
      ],
      "execution_count": 35,
      "outputs": []
    },
    {
      "cell_type": "code",
      "metadata": {
        "id": "ioV2YKCd_dtc",
        "outputId": "d3dd7feb-20f7-4595-bd64-e732dddbf862",
        "colab": {
          "base_uri": "https://localhost:8080/"
        }
      },
      "source": [
        "dictionary #Lists an element from Set Alpha and its corresponding element in set Bravo that is in the same position."
      ],
      "execution_count": 34,
      "outputs": [
        {
          "output_type": "execute_result",
          "data": {
            "text/plain": [
              "{1: 2, 3: 4, 5: 6, 7: 8, 9: 10}"
            ]
          },
          "metadata": {},
          "execution_count": 34
        }
      ]
    },
    {
      "cell_type": "markdown",
      "metadata": {
        "id": "8fqhRB9yAJ82"
      },
      "source": [
        "**(b) Is your dictionary a relation, function, or bi-jective function? Why or why not?**\n",
        "\n",
        "-My dictionary is a bi-jective dictionary because all elements in set Alpha (domain) are matched to an element in set Bravo (range), and no element is mapped to more than element more than once."
      ]
    },
    {
      "cell_type": "markdown",
      "metadata": {
        "id": "vdOGiR7VAqZF"
      },
      "source": [
        "**(c) Is the relation symmetric, reflexive or transitive?**\n",
        "\n",
        "-Is is symmetric because each element is only related to its corresponding element in the other set.  1R2, 3R4, 5R6, 7R8, 9R10.  By reversing which set is listed first, it would get the symmetric counterpart of 2R1, 4R3, 6R5, 8R7, 10R9."
      ]
    },
    {
      "cell_type": "markdown",
      "metadata": {
        "id": "LVNwkdjJDbbm"
      },
      "source": [
        "**(d) Apply the dictionary to set C from 1. What happens?**\n",
        "\n",
        "-Lists the elements that seem to correspond from set Bravo, but I am not entirely sure of why it picked the ones it did.  Possibly due to ascending order."
      ]
    },
    {
      "cell_type": "code",
      "metadata": {
        "id": "aj8ai9P3_7h1"
      },
      "source": [
        "newList = [dictionary.get(x,x) for x in Charlie]"
      ],
      "execution_count": 26,
      "outputs": []
    },
    {
      "cell_type": "code",
      "metadata": {
        "id": "VR5BKgxoEZkJ",
        "outputId": "fcfc5a3f-d68b-44f7-d142-6486052ab806",
        "colab": {
          "base_uri": "https://localhost:8080/"
        }
      },
      "source": [
        "newList"
      ],
      "execution_count": 25,
      "outputs": [
        {
          "output_type": "execute_result",
          "data": {
            "text/plain": [
              "[4, 6, 10, 12, 15]"
            ]
          },
          "metadata": {},
          "execution_count": 25
        }
      ]
    },
    {
      "cell_type": "code",
      "metadata": {
        "id": "-GlY03nKEa3M"
      },
      "source": [
        "newList2 = [dictionary.get(x,x) for x in Alpha]"
      ],
      "execution_count": 28,
      "outputs": []
    },
    {
      "cell_type": "code",
      "metadata": {
        "id": "BbvHhNwrEuDR",
        "outputId": "38182a71-3d23-4a15-f36f-f37a1c3a6694",
        "colab": {
          "base_uri": "https://localhost:8080/"
        }
      },
      "source": [
        "newList2 #For declaring Alpha as the set to get values from, the 2nd new list then prints the elements from set Bravo that correspond to set Alpha."
      ],
      "execution_count": 36,
      "outputs": [
        {
          "output_type": "execute_result",
          "data": {
            "text/plain": [
              "[2, 4, 6, 8, 10]"
            ]
          },
          "metadata": {},
          "execution_count": 36
        }
      ]
    },
    {
      "cell_type": "code",
      "metadata": {
        "id": "7KdasyNLEwig"
      },
      "source": [
        "newList3 = [dictionary.get(x,x) for x in Bravo]"
      ],
      "execution_count": 37,
      "outputs": []
    },
    {
      "cell_type": "code",
      "metadata": {
        "id": "uVmAYM_nGgt4",
        "outputId": "a3c8312d-403f-440f-e4b7-6e5f8d1e7c28",
        "colab": {
          "base_uri": "https://localhost:8080/"
        }
      },
      "source": [
        "newList3 #I expected it to pull the values from set Alpha that corresponded to Bravo, but for some reason it just printed the values from Bravo.  Strange."
      ],
      "execution_count": 39,
      "outputs": [
        {
          "output_type": "execute_result",
          "data": {
            "text/plain": [
              "[2, 4, 6, 8, 10]"
            ]
          },
          "metadata": {},
          "execution_count": 39
        }
      ]
    },
    {
      "cell_type": "markdown",
      "metadata": {
        "id": "69i25e4AG94K"
      },
      "source": [
        "## 4. My Comments On the Project"
      ]
    },
    {
      "cell_type": "markdown",
      "metadata": {
        "id": "l_hbJv4NHNU4"
      },
      "source": [
        "**(a) Describing my findings in words.**\n",
        "\n",
        "-I found that using Python to calculate sets, functions and dictionaries is a very simple way to calculate Unions, Intersections, Complements, Functions, etc. While it might not show all the steps the program took to solve the equation, you can know what it does if you know how the equation is solved and how the code works."
      ]
    },
    {
      "cell_type": "markdown",
      "metadata": {
        "id": "of7LS9mAIYXM"
      },
      "source": [
        "**(b) If you were unable to code something discuss what the difficulty was and why doing it by hand\n",
        "was easier.**\n",
        "\n",
        "-Overall, the only difficulties I had concerning the project were simply related to learning how the programming language worked; once I had that straightened out, typing the answers to the questions went by very quickly with the help of the example template.  Having an incorrect/incomplete example to go off of is a very big help in my opinion because I can see how my answer is supposed to be laid out, but then I can apply what I have learned into fixing the incorrect portions or filling in what was left out.  I never had to solve anything by writing it by hand; the only thing written was the function to make sure the values being entered were correctly output."
      ]
    },
    {
      "cell_type": "markdown",
      "metadata": {
        "id": "3Snf5wXhJqJx"
      },
      "source": [
        "**(c) Discussing the graph of my functions.**\n",
        "\n",
        "-Graphing the functions was about the most difficult of the entire aassignment mostly due to inexperience using the software to graph them.  But using another software application that graph functions, I was able to cofirm they were grapphed correctly.  Other than the few issues, the graphing seemed to go smoothly."
      ]
    }
  ]
}