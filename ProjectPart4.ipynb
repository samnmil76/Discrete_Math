{
  "nbformat": 4,
  "nbformat_minor": 0,
  "metadata": {
    "colab": {
      "name": "Untitled0.ipynb",
      "provenance": [],
      "include_colab_link": true
    },
    "kernelspec": {
      "name": "python3",
      "display_name": "Python 3"
    }
  },
  "cells": [
    {
      "cell_type": "markdown",
      "metadata": {
        "id": "view-in-github",
        "colab_type": "text"
      },
      "source": [
        "<a href=\"https://colab.research.google.com/github/samnmil76/Discrete_Math/blob/master/ProjectPart4.ipynb\" target=\"_parent\"><img src=\"https://colab.research.google.com/assets/colab-badge.svg\" alt=\"Open In Colab\"/></a>"
      ]
    },
    {
      "cell_type": "markdown",
      "metadata": {
        "id": "YCJaepmmfKrS"
      },
      "source": [
        "# Project Part 4 : CPSMA 3913 [Dr. Jacob's](https://github.com/nurfnick) Discrete Mathematics \n",
        "\n",
        "## Project Part 4\n",
        "\n",
        "### Samuel Miller - 223125\n",
        "\n",
        "\n"
      ]
    },
    {
      "cell_type": "markdown",
      "metadata": {
        "id": "Xs_Pvtua1Nnt"
      },
      "source": [
        "## 1 Logic"
      ]
    },
    {
      "cell_type": "markdown",
      "metadata": {
        "id": "2z6U1aB_fQDM"
      },
      "source": [
        "**(a)** Three propositions."
      ]
    },
    {
      "cell_type": "code",
      "metadata": {
        "id": "rU_BgC_kfH7g"
      },
      "source": [
        "WillMakeLunchAtHome = True\n",
        "WillTakeADifferentWayHome = False\n",
        "WillGetAllHomeWorkDoneOnTime = True"
      ],
      "execution_count": 2,
      "outputs": []
    },
    {
      "cell_type": "markdown",
      "metadata": {
        "id": "Iggon6VK1Vxo"
      },
      "source": [
        "$$\\lnot a$$"
      ]
    },
    {
      "cell_type": "code",
      "metadata": {
        "id": "CIcKsfp1BsuQ",
        "outputId": "e913aee6-5fe3-4a46-a26c-6ecfb1ad13d0",
        "colab": {
          "base_uri": "https://localhost:8080/"
        }
      },
      "source": [
        "not(WillMakeLunchAtHome)"
      ],
      "execution_count": 4,
      "outputs": [
        {
          "output_type": "execute_result",
          "data": {
            "text/plain": [
              "False"
            ]
          },
          "metadata": {},
          "execution_count": 4
        }
      ]
    },
    {
      "cell_type": "markdown",
      "metadata": {
        "id": "XnSwdnp-CRz6"
      },
      "source": [
        "$$a \\land c$$"
      ]
    },
    {
      "cell_type": "code",
      "metadata": {
        "id": "gqh3lnd5CJKk",
        "outputId": "2ca339fb-4ee6-4214-fa56-37f245b40c0c",
        "colab": {
          "base_uri": "https://localhost:8080/"
        }
      },
      "source": [
        "WillMakeLunchAtHome and WillGetAllHomeWorkDoneOnTime"
      ],
      "execution_count": 6,
      "outputs": [
        {
          "output_type": "execute_result",
          "data": {
            "text/plain": [
              "True"
            ]
          },
          "metadata": {},
          "execution_count": 6
        }
      ]
    },
    {
      "cell_type": "markdown",
      "metadata": {
        "id": "Ok6rxxJSCplP"
      },
      "source": [
        "$$c \\lor b$$"
      ]
    },
    {
      "cell_type": "code",
      "metadata": {
        "id": "PMryVr89CvPW",
        "outputId": "dd492e3b-015b-452a-d135-37c9a742a674",
        "colab": {
          "base_uri": "https://localhost:8080/"
        }
      },
      "source": [
        "WillGetAllHomeWorkDoneOnTime or WillTakeADifferentWayHome"
      ],
      "execution_count": 7,
      "outputs": [
        {
          "output_type": "execute_result",
          "data": {
            "text/plain": [
              "True"
            ]
          },
          "metadata": {},
          "execution_count": 7
        }
      ]
    },
    {
      "cell_type": "markdown",
      "metadata": {
        "id": "-3GszghgDNFo"
      },
      "source": [
        "**(b)** Computing the truth statement of $b \\land a$, $b \\lor \\lnot c$, and $b \\Rightarrow a$.  \n",
        "\n",
        "The variables need not be the second with first, first with third, etc.  They can be any combination."
      ]
    },
    {
      "cell_type": "markdown",
      "metadata": {
        "id": "kxtN0uYxGowP"
      },
      "source": [
        "$$x \\land x$$"
      ]
    },
    {
      "cell_type": "code",
      "metadata": {
        "id": "wih1PmA5EB9W",
        "outputId": "9880199a-95a2-450a-e6d1-7bf102fde87c",
        "colab": {
          "base_uri": "https://localhost:8080/"
        }
      },
      "source": [
        "WillMakeLunchAtHome and WillGetAllHomeWorkDoneOnTime"
      ],
      "execution_count": 10,
      "outputs": [
        {
          "output_type": "execute_result",
          "data": {
            "text/plain": [
              "True"
            ]
          },
          "metadata": {},
          "execution_count": 10
        }
      ]
    },
    {
      "cell_type": "markdown",
      "metadata": {
        "id": "OdWawSeRG1vJ"
      },
      "source": [
        "$$x \\lor \\lnot x$$"
      ]
    },
    {
      "cell_type": "code",
      "metadata": {
        "id": "kCS33QgbGdsm",
        "outputId": "6cfb37cf-bd58-4d9b-d29d-399f34db5d9b",
        "colab": {
          "base_uri": "https://localhost:8080/"
        }
      },
      "source": [
        "WillTakeADifferentWayHome or not(WillMakeLunchAtHome)"
      ],
      "execution_count": 11,
      "outputs": [
        {
          "output_type": "execute_result",
          "data": {
            "text/plain": [
              "False"
            ]
          },
          "metadata": {},
          "execution_count": 11
        }
      ]
    },
    {
      "cell_type": "markdown",
      "metadata": {
        "id": "fHCsnEyYG5pZ"
      },
      "source": [
        "$$x \\Rightarrow x$$"
      ]
    },
    {
      "cell_type": "code",
      "metadata": {
        "id": "PdE7N5kfHDmh",
        "outputId": "383a3c4b-a4ec-4475-8d84-52e4feb951c9",
        "colab": {
          "base_uri": "https://localhost:8080/"
        }
      },
      "source": [
        "def implies(a,c):\n",
        "  return not(a) or c\n",
        "\n",
        "implies(WillMakeLunchAtHome, WillGetAllHomeWorkDoneOnTime)\n",
        "implies(WillMakeLunchAtHome, WillTakeADifferentWayHome)\n",
        "implies(WillTakeADifferentWayHome, WillGetAllHomeWorkDoneOnTime)\n",
        "#Returns \"TRUE\" with two true statements, returns \"FALSE\" when first statement is true but second is false\n",
        "#and returns \"TRUE\" when first statement is false but second statement is true."
      ],
      "execution_count": 15,
      "outputs": [
        {
          "output_type": "execute_result",
          "data": {
            "text/plain": [
              "True"
            ]
          },
          "metadata": {},
          "execution_count": 15
        }
      ]
    },
    {
      "cell_type": "markdown",
      "metadata": {
        "id": "BNH83eCoIpaL"
      },
      "source": [
        "**(c)** A complete truth table for $\\lnot (b \\oplus a) \\Rightarrow (a \\lor c)$"
      ]
    },
    {
      "cell_type": "markdown",
      "metadata": {
        "id": "_7RoPTU_hXG1"
      },
      "source": [
        "## 2 Functions"
      ]
    },
    {
      "cell_type": "code",
      "metadata": {
        "id": "hBBOFoMKEBBe"
      },
      "source": [
        ""
      ],
      "execution_count": null,
      "outputs": []
    },
    {
      "cell_type": "markdown",
      "metadata": {
        "id": "MMXFYCZ6hajg"
      },
      "source": [
        "Math and other fun stuff....\n",
        "$$\n",
        "f_n(x) = \\sum_{i= 0}^n\\frac{\\frac{d}{dx}\\sin x|_{x = \\frac \\pi 4}}{n!} \\left(x-\\frac\\pi4\\right)^n\n",
        "$$\n",
        "\n",
        "Make sure to mention if you are using packages!\n",
        "\n",
        "In order to compute these, I will need to import the math package."
      ]
    },
    {
      "cell_type": "code",
      "metadata": {
        "id": "5U5T3Fld5X0S"
      },
      "source": [
        ""
      ],
      "execution_count": null,
      "outputs": []
    }
  ]
}