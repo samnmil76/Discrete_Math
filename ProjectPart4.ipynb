{
  "nbformat": 4,
  "nbformat_minor": 0,
  "metadata": {
    "colab": {
      "name": "Untitled0.ipynb",
      "provenance": [],
      "include_colab_link": true
    },
    "kernelspec": {
      "name": "python3",
      "display_name": "Python 3"
    }
  },
  "cells": [
    {
      "cell_type": "markdown",
      "metadata": {
        "id": "view-in-github",
        "colab_type": "text"
      },
      "source": [
        "<a href=\"https://colab.research.google.com/github/samnmil76/Discrete_Math/blob/master/ProjectPart4.ipynb\" target=\"_parent\"><img src=\"https://colab.research.google.com/assets/colab-badge.svg\" alt=\"Open In Colab\"/></a>"
      ]
    },
    {
      "cell_type": "markdown",
      "metadata": {
        "id": "YCJaepmmfKrS"
      },
      "source": [
        "# Project Part 4 : CPSMA 3913 [Dr. Jacob's](https://github.com/nurfnick) Discrete Mathematics \n",
        "\n",
        "## Project Part 4\n",
        "\n",
        "### Samuel Miller - 223125\n",
        "\n",
        "\n"
      ]
    },
    {
      "cell_type": "markdown",
      "metadata": {
        "id": "Xs_Pvtua1Nnt"
      },
      "source": [
        "## 1 Logic"
      ]
    },
    {
      "cell_type": "markdown",
      "metadata": {
        "id": "2z6U1aB_fQDM"
      },
      "source": [
        "**(a)** Three propositions."
      ]
    },
    {
      "cell_type": "code",
      "metadata": {
        "id": "rU_BgC_kfH7g"
      },
      "source": [
        "WillMakeLunchAtHome = True\n",
        "WillTakeADifferentWayHome = False\n",
        "WillGetAllHomeWorkDoneOnTime = True"
      ],
      "execution_count": null,
      "outputs": []
    },
    {
      "cell_type": "markdown",
      "metadata": {
        "id": "Iggon6VK1Vxo"
      },
      "source": [
        "$$\\lnot a$$"
      ]
    },
    {
      "cell_type": "code",
      "metadata": {
        "id": "CIcKsfp1BsuQ",
        "colab": {
          "base_uri": "https://localhost:8080/"
        },
        "outputId": "e913aee6-5fe3-4a46-a26c-6ecfb1ad13d0"
      },
      "source": [
        "not(WillMakeLunchAtHome)"
      ],
      "execution_count": null,
      "outputs": [
        {
          "output_type": "execute_result",
          "data": {
            "text/plain": [
              "False"
            ]
          },
          "metadata": {},
          "execution_count": 4
        }
      ]
    },
    {
      "cell_type": "markdown",
      "metadata": {
        "id": "XnSwdnp-CRz6"
      },
      "source": [
        "$$a \\land c$$"
      ]
    },
    {
      "cell_type": "code",
      "metadata": {
        "id": "gqh3lnd5CJKk",
        "colab": {
          "base_uri": "https://localhost:8080/"
        },
        "outputId": "2ca339fb-4ee6-4214-fa56-37f245b40c0c"
      },
      "source": [
        "WillMakeLunchAtHome and WillGetAllHomeWorkDoneOnTime"
      ],
      "execution_count": null,
      "outputs": [
        {
          "output_type": "execute_result",
          "data": {
            "text/plain": [
              "True"
            ]
          },
          "metadata": {},
          "execution_count": 6
        }
      ]
    },
    {
      "cell_type": "markdown",
      "metadata": {
        "id": "Ok6rxxJSCplP"
      },
      "source": [
        "$$c \\lor b$$"
      ]
    },
    {
      "cell_type": "code",
      "metadata": {
        "id": "PMryVr89CvPW",
        "colab": {
          "base_uri": "https://localhost:8080/"
        },
        "outputId": "dd492e3b-015b-452a-d135-37c9a742a674"
      },
      "source": [
        "WillGetAllHomeWorkDoneOnTime or WillTakeADifferentWayHome"
      ],
      "execution_count": null,
      "outputs": [
        {
          "output_type": "execute_result",
          "data": {
            "text/plain": [
              "True"
            ]
          },
          "metadata": {},
          "execution_count": 7
        }
      ]
    },
    {
      "cell_type": "markdown",
      "metadata": {
        "id": "-3GszghgDNFo"
      },
      "source": [
        "**(b)** Computing the truth statement of $b \\land a$, $b \\lor \\lnot c$, and $b \\Rightarrow a$.  \n",
        "\n",
        "The variables need not be the second with first, first with third, etc.  They can be any combination."
      ]
    },
    {
      "cell_type": "markdown",
      "metadata": {
        "id": "kxtN0uYxGowP"
      },
      "source": [
        "$$x \\land x$$"
      ]
    },
    {
      "cell_type": "code",
      "metadata": {
        "id": "wih1PmA5EB9W",
        "colab": {
          "base_uri": "https://localhost:8080/"
        },
        "outputId": "9880199a-95a2-450a-e6d1-7bf102fde87c"
      },
      "source": [
        "WillMakeLunchAtHome and WillGetAllHomeWorkDoneOnTime"
      ],
      "execution_count": null,
      "outputs": [
        {
          "output_type": "execute_result",
          "data": {
            "text/plain": [
              "True"
            ]
          },
          "metadata": {},
          "execution_count": 10
        }
      ]
    },
    {
      "cell_type": "markdown",
      "metadata": {
        "id": "OdWawSeRG1vJ"
      },
      "source": [
        "$$x \\lor \\lnot x$$"
      ]
    },
    {
      "cell_type": "code",
      "metadata": {
        "id": "kCS33QgbGdsm",
        "colab": {
          "base_uri": "https://localhost:8080/"
        },
        "outputId": "6cfb37cf-bd58-4d9b-d29d-399f34db5d9b"
      },
      "source": [
        "WillTakeADifferentWayHome or not(WillMakeLunchAtHome)"
      ],
      "execution_count": null,
      "outputs": [
        {
          "output_type": "execute_result",
          "data": {
            "text/plain": [
              "False"
            ]
          },
          "metadata": {},
          "execution_count": 11
        }
      ]
    },
    {
      "cell_type": "markdown",
      "metadata": {
        "id": "fHCsnEyYG5pZ"
      },
      "source": [
        "$$x \\Rightarrow x$$"
      ]
    },
    {
      "cell_type": "code",
      "metadata": {
        "id": "PdE7N5kfHDmh",
        "colab": {
          "base_uri": "https://localhost:8080/"
        },
        "outputId": "029d9dcc-e17d-492b-caf0-2cf8c2d3d825"
      },
      "source": [
        "def implies(a,c):\n",
        "  return not(a) or c\n",
        "\n",
        "print (implies(WillMakeLunchAtHome, WillGetAllHomeWorkDoneOnTime))\n",
        "print (implies(WillMakeLunchAtHome, WillTakeADifferentWayHome))\n",
        "implies(WillTakeADifferentWayHome, WillGetAllHomeWorkDoneOnTime)\n",
        "#Returns \"TRUE\" with two true statements, returns \"FALSE\" when first statement is true but second is false\n",
        "#and returns \"TRUE\" when first statement is false but second statement is true."
      ],
      "execution_count": null,
      "outputs": [
        {
          "output_type": "stream",
          "name": "stdout",
          "text": [
            "True\n",
            "False\n"
          ]
        },
        {
          "output_type": "execute_result",
          "data": {
            "text/plain": [
              "True"
            ]
          },
          "metadata": {},
          "execution_count": 3
        }
      ]
    },
    {
      "cell_type": "markdown",
      "metadata": {
        "id": "BNH83eCoIpaL"
      },
      "source": [
        "**(c)** A complete truth table for $\\lnot (X \\oplus Y) \\Rightarrow (Y \\lor Z)$"
      ]
    },
    {
      "cell_type": "code",
      "metadata": {
        "id": "SvZK2yWqCcEc"
      },
      "source": [
        "values = [True,False]\n",
        "table = []\n",
        "\n",
        "for X in values:\n",
        "  for Y in values:\n",
        "    for Z in values: \n",
        "      row =[]\n",
        "      row.append(X)\n",
        "      row.append(Y)\n",
        "      row.append(Z)\n",
        "      row.append(not(X))\n",
        "      row.append(not(X ^ Y))\n",
        "      row.append(Y or Z)\n",
        "      row.append(implies(not(X) or Y,Z or Y))\n",
        "      table.append(row)"
      ],
      "execution_count": null,
      "outputs": []
    },
    {
      "cell_type": "code",
      "metadata": {
        "id": "lKs7UMCPEXau",
        "colab": {
          "base_uri": "https://localhost:8080/",
          "height": 297
        },
        "outputId": "b7863df1-dbe6-4909-cee1-da8bcf59a0b3"
      },
      "source": [
        "import pandas as pd\n",
        "\n",
        "df = pd.DataFrame(table,columns = ['X','Y','Z','¬X','¬(X⊕Y)',r'(Y∨Z)',r'¬(X⊕Y)⇒(Y∨Z)'] )\n",
        "df\n",
        "\n",
        "#To get symbols for the table, I copied ¬(X⊕Y)⇒(Y∨Z) from above where it was shown in the markdown language and pasted it directly into the code."
      ],
      "execution_count": 21,
      "outputs": [
        {
          "output_type": "execute_result",
          "data": {
            "text/html": [
              "<div>\n",
              "<style scoped>\n",
              "    .dataframe tbody tr th:only-of-type {\n",
              "        vertical-align: middle;\n",
              "    }\n",
              "\n",
              "    .dataframe tbody tr th {\n",
              "        vertical-align: top;\n",
              "    }\n",
              "\n",
              "    .dataframe thead th {\n",
              "        text-align: right;\n",
              "    }\n",
              "</style>\n",
              "<table border=\"1\" class=\"dataframe\">\n",
              "  <thead>\n",
              "    <tr style=\"text-align: right;\">\n",
              "      <th></th>\n",
              "      <th>X</th>\n",
              "      <th>Y</th>\n",
              "      <th>Z</th>\n",
              "      <th>¬X</th>\n",
              "      <th>¬(X⊕Y)</th>\n",
              "      <th>(Y∨Z)</th>\n",
              "      <th>¬(X⊕Y)⇒(Y∨Z)</th>\n",
              "    </tr>\n",
              "  </thead>\n",
              "  <tbody>\n",
              "    <tr>\n",
              "      <th>0</th>\n",
              "      <td>True</td>\n",
              "      <td>True</td>\n",
              "      <td>True</td>\n",
              "      <td>False</td>\n",
              "      <td>True</td>\n",
              "      <td>True</td>\n",
              "      <td>True</td>\n",
              "    </tr>\n",
              "    <tr>\n",
              "      <th>1</th>\n",
              "      <td>True</td>\n",
              "      <td>True</td>\n",
              "      <td>False</td>\n",
              "      <td>False</td>\n",
              "      <td>True</td>\n",
              "      <td>True</td>\n",
              "      <td>True</td>\n",
              "    </tr>\n",
              "    <tr>\n",
              "      <th>2</th>\n",
              "      <td>True</td>\n",
              "      <td>False</td>\n",
              "      <td>True</td>\n",
              "      <td>False</td>\n",
              "      <td>False</td>\n",
              "      <td>True</td>\n",
              "      <td>True</td>\n",
              "    </tr>\n",
              "    <tr>\n",
              "      <th>3</th>\n",
              "      <td>True</td>\n",
              "      <td>False</td>\n",
              "      <td>False</td>\n",
              "      <td>False</td>\n",
              "      <td>False</td>\n",
              "      <td>False</td>\n",
              "      <td>True</td>\n",
              "    </tr>\n",
              "    <tr>\n",
              "      <th>4</th>\n",
              "      <td>False</td>\n",
              "      <td>True</td>\n",
              "      <td>True</td>\n",
              "      <td>True</td>\n",
              "      <td>False</td>\n",
              "      <td>True</td>\n",
              "      <td>True</td>\n",
              "    </tr>\n",
              "    <tr>\n",
              "      <th>5</th>\n",
              "      <td>False</td>\n",
              "      <td>True</td>\n",
              "      <td>False</td>\n",
              "      <td>True</td>\n",
              "      <td>False</td>\n",
              "      <td>True</td>\n",
              "      <td>True</td>\n",
              "    </tr>\n",
              "    <tr>\n",
              "      <th>6</th>\n",
              "      <td>False</td>\n",
              "      <td>False</td>\n",
              "      <td>True</td>\n",
              "      <td>True</td>\n",
              "      <td>True</td>\n",
              "      <td>True</td>\n",
              "      <td>True</td>\n",
              "    </tr>\n",
              "    <tr>\n",
              "      <th>7</th>\n",
              "      <td>False</td>\n",
              "      <td>False</td>\n",
              "      <td>False</td>\n",
              "      <td>True</td>\n",
              "      <td>True</td>\n",
              "      <td>False</td>\n",
              "      <td>False</td>\n",
              "    </tr>\n",
              "  </tbody>\n",
              "</table>\n",
              "</div>"
            ],
            "text/plain": [
              "       X      Y      Z     ¬X  ¬(X⊕Y)  (Y∨Z)  ¬(X⊕Y)⇒(Y∨Z)\n",
              "0   True   True   True  False    True   True          True\n",
              "1   True   True  False  False    True   True          True\n",
              "2   True  False   True  False   False   True          True\n",
              "3   True  False  False  False   False  False          True\n",
              "4  False   True   True   True   False   True          True\n",
              "5  False   True  False   True   False   True          True\n",
              "6  False  False   True   True    True   True          True\n",
              "7  False  False  False   True    True  False         False"
            ]
          },
          "metadata": {},
          "execution_count": 21
        }
      ]
    },
    {
      "cell_type": "markdown",
      "metadata": {
        "id": "_7RoPTU_hXG1"
      },
      "source": [
        "## 2 Proof"
      ]
    },
    {
      "cell_type": "markdown",
      "metadata": {
        "id": "Eq8swS-nJj0l"
      },
      "source": [
        "**(a)**  A linear equation $y = mx+b$ by assigning non-zero values to $m$ and $b$."
      ]
    },
    {
      "cell_type": "markdown",
      "metadata": {
        "id": "pPLx7Xl4KLHs"
      },
      "source": [
        "I will use the function $y = 2x + 5$."
      ]
    },
    {
      "cell_type": "code",
      "metadata": {
        "id": "hBBOFoMKEBBe",
        "outputId": "669a8e79-2a07-466f-ce50-477833b79989",
        "colab": {
          "base_uri": "https://localhost:8080/",
          "height": 265
        }
      },
      "source": [
        "import matplotlib.pyplot as plt\n",
        "import numpy as np\n",
        "\n",
        "x = np.arange(-5,2,.1) #first value, last value, stepsize = .1\n",
        "\n",
        "plt.plot(x,2*x+5)\n",
        "plt.scatter(0,5, c='red',s = 40)#plotting the points too x,y,color,size\n",
        "#plt.scatter(-4,0,c='red',s = 40)\n",
        "plt.show()"
      ],
      "execution_count": 23,
      "outputs": [
        {
          "output_type": "display_data",
          "data": {
            "image/png": "[encoded data removed]",
            "text/plain": [
              "<Figure size 432x288 with 1 Axes>"
            ]
          },
          "metadata": {
            "needs_background": "light"
          }
        }
      ]
    },
    {
      "cell_type": "markdown",
      "metadata": {
        "id": "sT4HvXGBLNj7"
      },
      "source": [
        "**(b)** "
      ]
    },
    {
      "cell_type": "code",
      "metadata": {
        "id": "5U5T3Fld5X0S"
      },
      "source": [
        ""
      ],
      "execution_count": null,
      "outputs": []
    }
  ]
}